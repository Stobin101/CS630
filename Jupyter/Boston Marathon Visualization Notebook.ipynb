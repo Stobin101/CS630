{
 "cells": [
  {
   "cell_type": "markdown",
   "metadata": {},
   "source": [
    "Data Acquisition and Preparation Notebook: You’ll need to collect data for this project,\n",
    "and it’s almost certain that whatever data you collect will be not in a proper format upon\n",
    "receipt. Construct a Jupyter Notebook which documents the process. It should:\n",
    "○ Describe the goal of the project and why you wanted to tackle it,\n",
    "○ Describe what data you’ll need to collect,\n",
    "○ Be well organized with headers/sections, links to important resources, and other\n",
    "organizational tools that you deem necessary,\n",
    "○ Contain the actual code that collects the data, if necessary,\n",
    "○ Contain the actual code that prepares your data for use,\n",
    "○ Contain enough markdown cells to weave together a story that goes from\n",
    "concept to clean and prepared datasets.\n",
    "○ Be reproducible: if I read your notebook, follow your instructions, and run your\n",
    "cells (in order!), I should be able to end up in the same place you do."
   ]
  },
  {
   "cell_type": "markdown",
   "metadata": {},
   "source": [
    "# Boston Marathon Split Comparison\n",
    "by Sam Tobin and Cole DeMeulemeester"
   ]
  },
  {
   "cell_type": "raw",
   "metadata": {},
   "source": [
    "This project compares splits of a selected 2017 Boston Marathon finisher, and graphs the results on a simple map of the course."
   ]
  },
  {
   "cell_type": "markdown",
   "metadata": {},
   "source": [
    "Being track runners ourselves, we wanted to explore the ways in which all runners, and most impotantly the successful and unsuccessful, approached the race in comparison with the average."
   ]
  },
  {
   "cell_type": "markdown",
   "metadata": {},
   "source": [
    "Our dataset, originall"
   ]
  },
  {
   "cell_type": "code",
   "execution_count": null,
   "metadata": {
    "collapsed": true
   },
   "outputs": [],
   "source": []
  },
  {
   "cell_type": "code",
   "execution_count": null,
   "metadata": {
    "collapsed": true
   },
   "outputs": [],
   "source": []
  }
 ],
 "metadata": {
  "kernelspec": {
   "display_name": "Python 3",
   "language": "python",
   "name": "python3"
  },
  "language_info": {
   "codemirror_mode": {
    "name": "ipython",
    "version": 3
   },
   "file_extension": ".py",
   "mimetype": "text/x-python",
   "name": "python",
   "nbconvert_exporter": "python",
   "pygments_lexer": "ipython3",
   "version": "3.6.1"
  }
 },
 "nbformat": 4,
 "nbformat_minor": 2
}
