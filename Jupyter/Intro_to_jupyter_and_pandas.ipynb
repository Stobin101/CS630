{
 "cells": [
  {
   "cell_type": "markdown",
   "metadata": {},
   "source": [
    "# An introduction to Jupyter notebooks and Pandas\n",
    "\n",
    "A Jupyter notebook (formally iPython) is an interactive environment for Python, and it's probably the best way of using Python for data manipulation.  You may ask: \"I can just run python interactively from the terminal, why do I need jupyter?\"  Well, that's a fair question, and the answer will hopefully become clear as we work through this notebook.\n",
    "\n",
    "Jupyter notebooks are broken down into **cells**.  We're in the topmost cell of this notebook at the moment.  Cells come in three flavors:\n",
    "\n",
    "* **Markdown cells** allows you to edit the text in [Markdown](https://guides.github.com/features/mastering-markdown/).  These cells are used for exposition, discussion, and general formatting.  Think of them as extended comments that can be formatted beautifully, and can contain [links](http://www.jupyter.org), bulleted lists, etc.  Anything that Markdown can!  They can even contain $\\LaTeX$ code ([huh?](#footer_latex)): $$\\left(\\int_1^{\\sqrt[3]{3}}z^2 dz \\right)\\cos\\left(\\frac{3\\pi}{9}\\right) = \\ln\\left(\\sqrt[3]{e}\\right)$$\n",
    "* **Code cells** contain code (for us, Python code).  These cells can contain code as short as one line, or as long as you'd like!  (Actually, I have no idea what the maximum length is.  I've had cells well over 200 lines long though).  They have some basic text editor support, so they'll help you with indentation, tab completion, etc., but they won't be able to do some of the magic that true editors like Atom or Sublime can handle.  They're also interactive in the same way that the Python interpretter in interactive mode is.  Type `15*4 %3` and it returns the answer, no need to print out everything.\n",
    "\n",
    "There's one more, but it's not used as often:\n",
    "\n",
    "* **Raw cells** are used when you want to hack the notebook to make it fancier.  We won't be using them, but it's good to know they exist.\n",
    "\n",
    "How about a little demonstation?  Try running the cell below by highlighting it and pressing either `cmd + enter` or `ctrl + enter`.  If that *doesn't* work, then you're not [running the notebook](http://jupyter-notebook-beginner-guide.readthedocs.io/en/latest/execute.html)."
   ]
  },
  {
   "cell_type": "code",
   "execution_count": 1,
   "metadata": {},
   "outputs": [
    {
     "name": "stdout",
     "output_type": "stream",
     "text": [
      "2 3 5 7 11 13 17 19 23 29 31 37 41 43 47 53 59 61 67 71 73 79 83 89 97 101 103 107 109 113 127 131 137 139 149 151 157 163 167 173 179 181 191 193 197 199 211 223 227 229 233 239 241 251 257 263 269 271 277 281 283 293 307 311 313 317 331 337 347 349 353 359 367 373 379 383 389 397\n"
     ]
    }
   ],
   "source": [
    "def is_prime(n):\n",
    "    \"\"\" Determine whether n is prime.\"\"\"\n",
    "    k = 2\n",
    "    while k*k <= n:\n",
    "        if n % k == 0:\n",
    "            return False\n",
    "        k += 1\n",
    "    return True\n",
    "\n",
    "print(*[x for x in range(2,401) if is_prime(x)])"
   ]
  },
  {
   "cell_type": "markdown",
   "metadata": {},
   "source": [
    "[**Side note** for people confused by that last line](#footer_list_comprehensions)"
   ]
  },
  {
   "cell_type": "markdown",
   "metadata": {},
   "source": [
    "## Editting a notebook: Command mode and Edit mode\n",
    "\n",
    "While working with a notebook, you are always in one of two modes.\n",
    "\n",
    "1. In **Edit mode** you can edit the content of a cell.  It acts like a text file inside a text editor, and has some helpful syntax highlighting.  If you're editing a Markdown cell, it will look significantly different.  If you're editing a code cell, it will look mostly the same.  To *run* the cell, you have a few options:\n",
    " * press `command + enter` or `ctrl + enter` to run the cell and exit edit mode.  Running a markdown cell will render it, and running a code cell performs as you expect.\n",
    " * press `shift + enter` to run the cell and insert a new cell below.  This is the standard command when you're building the notebook.\n",
    " * You can also press `esc` to go to command mode without running the cell.\n",
    "1. In **Command mode** you have access to your cells in a larger-scale way.  You can press `up` or `down` to move between cells, and press `enter` to enter edit mode on the currently selected cells.  You can also cut, copy, paste, and delete cells with appropriate keyboard commands.  Open the *Command Palette* (the keyboard in the top center of the toolbar) to see all the commands you can use in Command mode.\n",
    "\n",
    "## Linearity of code: the kernel\n",
    "\n",
    "A notebook has a **kernel** attached to it.  Think of it as the interactive python running behind the scenes, executing your commands when you send them.  There are two forms of *linearity*, or continuity-of-your-work, going on here, and it can be a bit confusing to new Jupyter users:\n",
    "\n",
    "* **Kernel Linearity**: After you execute a code cell, it gives you its output and places a number next to the top left corner of the cell.  This number is the *order of cell execution* in the kernel.  It's the order the kernel received from you.  This means you can run cells, tweak them and run them again, run something \"below\" the cell in the notebook, then come back and run the upper cell, *etc.*, and the kernel will keep track of this in terms of the order in which you ran them **chronologically**.  This is the order you want to keep in mind.  It's really useful!  You can start out with a junky-looking notebook, figure out your data analysis, realize you want to change stuff \"in the past\", and just go back and change them.  Once you get used to this, you'll love it.\n",
    "* **Cell Linearity**: There is an obvious order to the cells: the top ones \"go first\", and the lower ones \"go next\".  This isn't exactly necessary, though.  It definitely is the goal of the *final product* to go linearly, but programming, and especially data analysis, isn't like writting a journal entry.  Very often, you'll need to go back and change things, then rerun all the cells that come after the one you just edited.  You may type one line in a cell, hit `shift + enter` to see the output and move on to the next cell, then do that three more times.  You then realize that you'd prefer to have done all that at once, and you can merge those three cells together.  It's a workflow that I hope you'll learn to love.\n",
    "\n",
    "Play around with it now: we first use an uninitialized variable `my_hat` in a cell; hit `shift + enter` to see the error.  Below that, we create a cell in which we give the variable a value, then run that cell, followed by the original cell: "
   ]
  },
  {
   "cell_type": "code",
   "execution_count": 4,
   "metadata": {},
   "outputs": [
    {
     "name": "stdout",
     "output_type": "stream",
     "text": [
      "Oh, now it works!\n"
     ]
    }
   ],
   "source": [
    "# Push shift+enter to see an error or esc to not run the cell:\n",
    "\n",
    "print(my_hat)"
   ]
  },
  {
   "cell_type": "code",
   "execution_count": 3,
   "metadata": {},
   "outputs": [],
   "source": [
    "my_hat = \"Oh, now it works!\"\n",
    "\n",
    "# run this cell, then run the above cell!"
   ]
  },
  {
   "cell_type": "markdown",
   "metadata": {},
   "source": [
    "You'll get the hang of it in time. Another way this can bite you is by rerunning the same cell and expecting a certain result:"
   ]
  },
  {
   "cell_type": "code",
   "execution_count": 5,
   "metadata": {},
   "outputs": [],
   "source": [
    "# run this cell once!\n",
    "title = \"The Cat in the\""
   ]
  },
  {
   "cell_type": "code",
   "execution_count": 6,
   "metadata": {},
   "outputs": [
    {
     "name": "stdout",
     "output_type": "stream",
     "text": [
      "The Cat in the Hat\n"
     ]
    }
   ],
   "source": [
    "# run this cell many times!\n",
    "\n",
    "title += \" Hat\"\n",
    "print(title)"
   ]
  },
  {
   "cell_type": "markdown",
   "metadata": {},
   "source": [
    "One other thing to note about jupyter notebooks is that, unlike the Python interpretter, you have full access to your shell (bash or cmd, most likely) by using the `!` operator:"
   ]
  },
  {
   "cell_type": "code",
   "execution_count": 7,
   "metadata": {},
   "outputs": [],
   "source": [
    "!echo \"Hello from a text file!\" > hello.txt"
   ]
  },
  {
   "cell_type": "code",
   "execution_count": 8,
   "metadata": {},
   "outputs": [
    {
     "name": "stdout",
     "output_type": "stream",
     "text": [
      " Volume in drive C is OS\n",
      " Volume Serial Number is 1209-E633\n",
      "\n",
      " Directory of C:\\Users\\cdeme\\Documents\\School\\Old School files\\Andover\\Classes\\CSC 630\\Jupyter\n",
      "\n",
      "01/16/2019  05:36 PM    <DIR>          .\n",
      "01/16/2019  05:36 PM    <DIR>          ..\n",
      "08/14/2018  08:02 PM    <DIR>          .ipynb_checkpoints\n",
      "11/15/2017  09:55 AM             2,565 Boston Marathon Visualization Notebook.ipynb\n",
      "01/05/2019  09:41 AM    <DIR>          DATA\n",
      "09/25/2017  07:04 PM               167 gettingTheRepos.py\n",
      "01/16/2019  05:36 PM                28 hello.txt\n",
      "01/05/2019  04:38 PM           150,314 Intro_to_jupyter_and_pandas.ipynb\n",
      "01/05/2019  02:40 PM            17,545 lab3_csc630_f17.ipynb\n",
      "11/09/2017  09:43 AM         6,857,977 marathon_2017_with_seconds.csv\n",
      "10/22/2017  09:43 AM         4,222,685 marathon_results_2017.csv\n",
      "11/15/2017  10:45 AM             4,439 NFL Play Data.ipynb\n",
      "09/28/2017  08:01 AM             6,503 raven.txt\n",
      "09/28/2017  09:35 AM             1,555 RavenWords.csv\n",
      "11/15/2017  10:26 AM            40,074 sam_cole_marathon.ipynb\n",
      "01/05/2019  08:53 AM    <DIR>          Text Comparison\n",
      "              11 File(s)     11,303,852 bytes\n",
      "               5 Dir(s)  86,078,865,408 bytes free\n"
     ]
    }
   ],
   "source": [
    "## Let's see the file we just made:\n",
    "\n",
    "# I'm on a windows machine as I make this notebook, so I'll use: \n",
    "!dir \n",
    "\n",
    "# But if you're on a *nix machine (such as a macbook) you should use: \n",
    "# !ls"
   ]
  },
  {
   "cell_type": "code",
   "execution_count": 9,
   "metadata": {},
   "outputs": [
    {
     "name": "stdout",
     "output_type": "stream",
     "text": [
      "\"Hello from a text file!\" \n",
      "\n"
     ]
    }
   ],
   "source": [
    "# If there's no `!`, then we're using Python.  Here's the\n",
    "# Python command to open the text file we just made:\n",
    "with open(\"hello.txt\") as f:\n",
    "    print(f.read())"
   ]
  },
  {
   "cell_type": "code",
   "execution_count": 10,
   "metadata": {},
   "outputs": [],
   "source": [
    "# Again, the windows commands: \n",
    "!del hello.txt\n",
    "\n",
    "# But if you're on a *nix machine you should use: \n",
    "# !rm hello.txt"
   ]
  },
  {
   "cell_type": "markdown",
   "metadata": {},
   "source": [
    "(You can now go run the above `!dir` or `!ls` cell to double check that the file is gone!  Remember, *kernel linearity* is the imporant thing to keep in mind.)  I mostly use `!` in order to `!pip install <whatever_python_library_I_need>`.  (What's [pip](https://pythonprogramming.net/using-pip-install-for-python-modules/)?) \n",
    "\n",
    "Now let's move on to something more interesting.\n",
    "\n",
    "# A basic data analysis"
   ]
  },
  {
   "cell_type": "code",
   "execution_count": 11,
   "metadata": {},
   "outputs": [
    {
     "name": "stdout",
     "output_type": "stream",
     "text": [
      "5.1,3.5,1.4,0.2,Iris-setosa\n",
      "4.9,3.0,1.4,0.2,Iris-setosa\n",
      "4.7,3.2,1.3,0.2,Iris-setosa\n",
      "4.6,3.1,1.5,0.2,Iris-setosa\n",
      "5.0,3.6,1.4,0.2,Iris-setosa\n",
      "5.4,3.9,1.7,0.4,Iris-setosa\n",
      "4.6,3.4,1.4,0.3,Iris-setosa\n",
      "5.0,3.4,1.5,0.2,Iris-setosa\n",
      "4.4,2.9,1.4,0.2,Iris-setosa\n",
      "4.9,3.1,1.5,0.1,Iris-setosa\n"
     ]
    }
   ],
   "source": [
    "# standard import statements for data analysis\n",
    "import numpy as np                  # linear algebra library\n",
    "import pandas as pd                 # data analysis and manipulation\n",
    "import matplotlib.pyplot as plt     # standard-issue plotting library\n",
    "import seaborn as sns               # fancier plotting library\n",
    "\n",
    "# other helpful libraries\n",
    "import requests                     # allows the use of HTTP requests\n",
    "from io import StringIO             # turns a string into an input stream so that pandas can load it.\n",
    "from os.path import join            # allows for operating-system-specific path joining\n",
    "\n",
    "# The following line is a Jupyter \"magic\": lines beginning with a `%` are how you talk to Jupyter \n",
    "#   (instead of Python or the shell) .  Here, I'm telling Jupyter to display matplotlib plots \n",
    "#   as inline, as opposed to the default of having them pop up in their own window, buried \n",
    "#   behind everything else.\n",
    "%matplotlib inline\n",
    "\n",
    "# Use the Requests library to pull a dataset from the internet\n",
    "response = requests.get(\"https://archive.ics.uci.edu/ml/machine-learning-databases/iris/iris.data\")\n",
    "\n",
    "# Get just the data \n",
    "data_string = response.text\n",
    "\n",
    "print(response.text[:279])"
   ]
  },
  {
   "cell_type": "markdown",
   "metadata": {},
   "source": [
    "What a mess!  Let's turn that into something a bit more manageable.  Enter pandas:"
   ]
  },
  {
   "cell_type": "code",
   "execution_count": 12,
   "metadata": {},
   "outputs": [
    {
     "data": {
      "text/html": [
       "<div>\n",
       "<style scoped>\n",
       "    .dataframe tbody tr th:only-of-type {\n",
       "        vertical-align: middle;\n",
       "    }\n",
       "\n",
       "    .dataframe tbody tr th {\n",
       "        vertical-align: top;\n",
       "    }\n",
       "\n",
       "    .dataframe thead th {\n",
       "        text-align: right;\n",
       "    }\n",
       "</style>\n",
       "<table border=\"1\" class=\"dataframe\">\n",
       "  <thead>\n",
       "    <tr style=\"text-align: right;\">\n",
       "      <th></th>\n",
       "      <th>5.1</th>\n",
       "      <th>3.5</th>\n",
       "      <th>1.4</th>\n",
       "      <th>0.2</th>\n",
       "      <th>Iris-setosa</th>\n",
       "    </tr>\n",
       "  </thead>\n",
       "  <tbody>\n",
       "    <tr>\n",
       "      <th>0</th>\n",
       "      <td>4.9</td>\n",
       "      <td>3.0</td>\n",
       "      <td>1.4</td>\n",
       "      <td>0.2</td>\n",
       "      <td>Iris-setosa</td>\n",
       "    </tr>\n",
       "    <tr>\n",
       "      <th>1</th>\n",
       "      <td>4.7</td>\n",
       "      <td>3.2</td>\n",
       "      <td>1.3</td>\n",
       "      <td>0.2</td>\n",
       "      <td>Iris-setosa</td>\n",
       "    </tr>\n",
       "    <tr>\n",
       "      <th>2</th>\n",
       "      <td>4.6</td>\n",
       "      <td>3.1</td>\n",
       "      <td>1.5</td>\n",
       "      <td>0.2</td>\n",
       "      <td>Iris-setosa</td>\n",
       "    </tr>\n",
       "    <tr>\n",
       "      <th>3</th>\n",
       "      <td>5.0</td>\n",
       "      <td>3.6</td>\n",
       "      <td>1.4</td>\n",
       "      <td>0.2</td>\n",
       "      <td>Iris-setosa</td>\n",
       "    </tr>\n",
       "    <tr>\n",
       "      <th>4</th>\n",
       "      <td>5.4</td>\n",
       "      <td>3.9</td>\n",
       "      <td>1.7</td>\n",
       "      <td>0.4</td>\n",
       "      <td>Iris-setosa</td>\n",
       "    </tr>\n",
       "  </tbody>\n",
       "</table>\n",
       "</div>"
      ],
      "text/plain": [
       "   5.1  3.5  1.4  0.2  Iris-setosa\n",
       "0  4.9  3.0  1.4  0.2  Iris-setosa\n",
       "1  4.7  3.2  1.3  0.2  Iris-setosa\n",
       "2  4.6  3.1  1.5  0.2  Iris-setosa\n",
       "3  5.0  3.6  1.4  0.2  Iris-setosa\n",
       "4  5.4  3.9  1.7  0.4  Iris-setosa"
      ]
     },
     "execution_count": 12,
     "metadata": {},
     "output_type": "execute_result"
    }
   ],
   "source": [
    "# `df` is short for dataframe, the standard object in Pandas (which we abbreviated as `pd`), the Python \n",
    "#    dataset manipulation library.  Think of it as Excel, but awesome.\n",
    "df = pd.read_csv(StringIO(data_string))\n",
    "\n",
    "# show me the top 5 rows!\n",
    "df.head()"
   ]
  },
  {
   "cell_type": "markdown",
   "metadata": {},
   "source": [
    "Okay, it's prettier, but the columns are all messed up.  What gives?  Pandas figures that your first row is the names of the columns.  We'll add an extra line to fix that."
   ]
  },
  {
   "cell_type": "code",
   "execution_count": 13,
   "metadata": {},
   "outputs": [
    {
     "data": {
      "text/html": [
       "<div>\n",
       "<style scoped>\n",
       "    .dataframe tbody tr th:only-of-type {\n",
       "        vertical-align: middle;\n",
       "    }\n",
       "\n",
       "    .dataframe tbody tr th {\n",
       "        vertical-align: top;\n",
       "    }\n",
       "\n",
       "    .dataframe thead th {\n",
       "        text-align: right;\n",
       "    }\n",
       "</style>\n",
       "<table border=\"1\" class=\"dataframe\">\n",
       "  <thead>\n",
       "    <tr style=\"text-align: right;\">\n",
       "      <th></th>\n",
       "      <th>sepal length</th>\n",
       "      <th>sepal width</th>\n",
       "      <th>petal length</th>\n",
       "      <th>petal width</th>\n",
       "      <th>species</th>\n",
       "    </tr>\n",
       "  </thead>\n",
       "  <tbody>\n",
       "    <tr>\n",
       "      <th>0</th>\n",
       "      <td>5.1</td>\n",
       "      <td>3.5</td>\n",
       "      <td>1.4</td>\n",
       "      <td>0.2</td>\n",
       "      <td>Iris-setosa</td>\n",
       "    </tr>\n",
       "    <tr>\n",
       "      <th>1</th>\n",
       "      <td>4.9</td>\n",
       "      <td>3.0</td>\n",
       "      <td>1.4</td>\n",
       "      <td>0.2</td>\n",
       "      <td>Iris-setosa</td>\n",
       "    </tr>\n",
       "    <tr>\n",
       "      <th>2</th>\n",
       "      <td>4.7</td>\n",
       "      <td>3.2</td>\n",
       "      <td>1.3</td>\n",
       "      <td>0.2</td>\n",
       "      <td>Iris-setosa</td>\n",
       "    </tr>\n",
       "    <tr>\n",
       "      <th>3</th>\n",
       "      <td>4.6</td>\n",
       "      <td>3.1</td>\n",
       "      <td>1.5</td>\n",
       "      <td>0.2</td>\n",
       "      <td>Iris-setosa</td>\n",
       "    </tr>\n",
       "    <tr>\n",
       "      <th>4</th>\n",
       "      <td>5.0</td>\n",
       "      <td>3.6</td>\n",
       "      <td>1.4</td>\n",
       "      <td>0.2</td>\n",
       "      <td>Iris-setosa</td>\n",
       "    </tr>\n",
       "  </tbody>\n",
       "</table>\n",
       "</div>"
      ],
      "text/plain": [
       "   sepal length  sepal width  petal length  petal width      species\n",
       "0           5.1          3.5           1.4          0.2  Iris-setosa\n",
       "1           4.9          3.0           1.4          0.2  Iris-setosa\n",
       "2           4.7          3.2           1.3          0.2  Iris-setosa\n",
       "3           4.6          3.1           1.5          0.2  Iris-setosa\n",
       "4           5.0          3.6           1.4          0.2  Iris-setosa"
      ]
     },
     "execution_count": 13,
     "metadata": {},
     "output_type": "execute_result"
    }
   ],
   "source": [
    "column_names = [\"sepal length\", \"sepal width\", \"petal length\", \"petal width\", \"species\"]\n",
    "\n",
    "# read it in again to not lose the first line of data:\n",
    "df = pd.read_csv(StringIO(data_string), names=column_names)\n",
    "df.head()"
   ]
  },
  {
   "cell_type": "markdown",
   "metadata": {},
   "source": [
    "Awesome, now this is a working dataset.  Let's do some basic checks on our data, just to see what we're working with.\n",
    "\n",
    "(By the way, a quick *meta note*: notice that I'm using these markdown cells to walk you through the process of my data analysis using this notebook.  It's **much** nicer to look through someone else's work and see what they've done when they tell you a bit of a story with their Markdown cells along the way!)"
   ]
  },
  {
   "cell_type": "markdown",
   "metadata": {},
   "source": [
    "## Basic pandas commands: data inspection"
   ]
  },
  {
   "cell_type": "code",
   "execution_count": 14,
   "metadata": {},
   "outputs": [
    {
     "data": {
      "text/plain": [
       "(150, 5)"
      ]
     },
     "execution_count": 14,
     "metadata": {},
     "output_type": "execute_result"
    }
   ],
   "source": [
    "# number of rows and columns\n",
    "df.shape"
   ]
  },
  {
   "cell_type": "markdown",
   "metadata": {},
   "source": [
    "Notice that in our little `df.head()` call above, all the entries for `species` were the same.  That suggests there aren't too many *unique* options for `species` (In this case, `species` is *categorical data*: it doesn't really have any ordering).  How many unique options are there?"
   ]
  },
  {
   "cell_type": "code",
   "execution_count": 15,
   "metadata": {
    "scrolled": true
   },
   "outputs": [
    {
     "data": {
      "text/plain": [
       "array(['Iris-setosa', 'Iris-versicolor', 'Iris-virginica'], dtype=object)"
      ]
     },
     "execution_count": 15,
     "metadata": {},
     "output_type": "execute_result"
    }
   ],
   "source": [
    "df['species'].unique()\n",
    "\n",
    "# note that I could have also said:\n",
    "# df.species.unique()"
   ]
  },
  {
   "cell_type": "markdown",
   "metadata": {},
   "source": [
    "This dataset is the famous [iris](https://en.wikipedia.org/wiki/Iris_flower_data_set) dataset.  It contains data on  three species of iris, with four interesting columns of data about them.  You can use this dataset to learn about plotting, making basic machine learning models, etc.  Let's continue to analyze it."
   ]
  },
  {
   "cell_type": "code",
   "execution_count": 16,
   "metadata": {},
   "outputs": [
    {
     "data": {
      "text/html": [
       "<div>\n",
       "<style scoped>\n",
       "    .dataframe tbody tr th:only-of-type {\n",
       "        vertical-align: middle;\n",
       "    }\n",
       "\n",
       "    .dataframe tbody tr th {\n",
       "        vertical-align: top;\n",
       "    }\n",
       "\n",
       "    .dataframe thead th {\n",
       "        text-align: right;\n",
       "    }\n",
       "</style>\n",
       "<table border=\"1\" class=\"dataframe\">\n",
       "  <thead>\n",
       "    <tr style=\"text-align: right;\">\n",
       "      <th></th>\n",
       "      <th>sepal length</th>\n",
       "      <th>sepal width</th>\n",
       "      <th>petal length</th>\n",
       "      <th>petal width</th>\n",
       "    </tr>\n",
       "  </thead>\n",
       "  <tbody>\n",
       "    <tr>\n",
       "      <th>count</th>\n",
       "      <td>150.000000</td>\n",
       "      <td>150.000000</td>\n",
       "      <td>150.000000</td>\n",
       "      <td>150.000000</td>\n",
       "    </tr>\n",
       "    <tr>\n",
       "      <th>mean</th>\n",
       "      <td>5.843333</td>\n",
       "      <td>3.054000</td>\n",
       "      <td>3.758667</td>\n",
       "      <td>1.198667</td>\n",
       "    </tr>\n",
       "    <tr>\n",
       "      <th>std</th>\n",
       "      <td>0.828066</td>\n",
       "      <td>0.433594</td>\n",
       "      <td>1.764420</td>\n",
       "      <td>0.763161</td>\n",
       "    </tr>\n",
       "    <tr>\n",
       "      <th>min</th>\n",
       "      <td>4.300000</td>\n",
       "      <td>2.000000</td>\n",
       "      <td>1.000000</td>\n",
       "      <td>0.100000</td>\n",
       "    </tr>\n",
       "    <tr>\n",
       "      <th>25%</th>\n",
       "      <td>5.100000</td>\n",
       "      <td>2.800000</td>\n",
       "      <td>1.600000</td>\n",
       "      <td>0.300000</td>\n",
       "    </tr>\n",
       "    <tr>\n",
       "      <th>50%</th>\n",
       "      <td>5.800000</td>\n",
       "      <td>3.000000</td>\n",
       "      <td>4.350000</td>\n",
       "      <td>1.300000</td>\n",
       "    </tr>\n",
       "    <tr>\n",
       "      <th>75%</th>\n",
       "      <td>6.400000</td>\n",
       "      <td>3.300000</td>\n",
       "      <td>5.100000</td>\n",
       "      <td>1.800000</td>\n",
       "    </tr>\n",
       "    <tr>\n",
       "      <th>max</th>\n",
       "      <td>7.900000</td>\n",
       "      <td>4.400000</td>\n",
       "      <td>6.900000</td>\n",
       "      <td>2.500000</td>\n",
       "    </tr>\n",
       "  </tbody>\n",
       "</table>\n",
       "</div>"
      ],
      "text/plain": [
       "       sepal length  sepal width  petal length  petal width\n",
       "count    150.000000   150.000000    150.000000   150.000000\n",
       "mean       5.843333     3.054000      3.758667     1.198667\n",
       "std        0.828066     0.433594      1.764420     0.763161\n",
       "min        4.300000     2.000000      1.000000     0.100000\n",
       "25%        5.100000     2.800000      1.600000     0.300000\n",
       "50%        5.800000     3.000000      4.350000     1.300000\n",
       "75%        6.400000     3.300000      5.100000     1.800000\n",
       "max        7.900000     4.400000      6.900000     2.500000"
      ]
     },
     "execution_count": 16,
     "metadata": {},
     "output_type": "execute_result"
    }
   ],
   "source": [
    "# get some useful statistics on the dataset\n",
    "df.describe()"
   ]
  },
  {
   "cell_type": "markdown",
   "metadata": {},
   "source": [
    "This tells you quite a bit about the dataset, if you understand what you're looking at.  `count` is the number of elements, `mean` is the mean of the data (note that this requires doing some math on the data, so it will often be messed up if you have an error in your dataset, like missing data), `std` is the standard deviation, and the rest are [percentiles](https://en.wikipedia.org/wiki/Percentile). From this, I can see that nothing looks our of place, like there are unlikely to be incorrect values ($-150$cm long petals, for example), so we're okay to move on to some *exploratory* plots of our data."
   ]
  },
  {
   "cell_type": "markdown",
   "metadata": {},
   "source": [
    "# Basic plotting\n",
    "As I mentioned above, Matplotlib is the standard plotting library for Python. Let's make a simple scatter plot of two of the columns, to start."
   ]
  },
  {
   "cell_type": "code",
   "execution_count": 17,
   "metadata": {},
   "outputs": [
    {
     "data": {
      "text/plain": [
       "Index(['sepal length', 'sepal width', 'petal length', 'petal width',\n",
       "       'species'],\n",
       "      dtype='object')"
      ]
     },
     "execution_count": 17,
     "metadata": {},
     "output_type": "execute_result"
    }
   ],
   "source": [
    "df.columns"
   ]
  },
  {
   "cell_type": "code",
   "execution_count": 18,
   "metadata": {},
   "outputs": [
    {
     "data": {
      "image/png": "[encoded data removed]",
      "text/plain": [
       "<Figure size 432x288 with 1 Axes>"
      ]
     },
     "metadata": {
      "needs_background": "light"
     },
     "output_type": "display_data"
    }
   ],
   "source": [
    "# Note: the semi-colon is optional and makes the output slightly prettier.\n",
    "plt.scatter(df['petal length'], df['petal width']);"
   ]
  },
  {
   "cell_type": "markdown",
   "metadata": {},
   "source": [
    "Okay, cool, that was pretty easy.  However, it's not currently telling me much about that important-seeming lower left chunk of data points.  Is it maybe just one species, and the upper bit is the other two?  We can add some color to our plot to test this hypothesis.  To do that, we need to feed a list of colors that's the same length as the data (a length-150 list of strings like `\"red\", \"blue\"`, *etc.*) based on the species.  We'll make a Python dictionary to do that:"
   ]
  },
  {
   "cell_type": "code",
   "execution_count": 19,
   "metadata": {},
   "outputs": [
    {
     "name": "stdout",
     "output_type": "stream",
     "text": [
      "red, red, red, red, red, red, red, red, red, red, red, red, red, red, red, red, red, red, red, red, red, red, red, red, red, red, red, red, red, red, red, red, red, red, red, red, red, red, red, red, red, red, red, red, red, red, red, red, red, red, blue, blue, blue, blue, blue, blue, blue, blue, blue, blue, blue, blue, blue, blue, blue, blue, blue, blue, blue, blue, blue, blue, blue, blue, blue, blue, blue, blue, blue, blue, blue, blue, blue, blue, blue, blue, blue, blue, blue, blue, blue, blue, blue, blue, blue, blue, blue, blue, blue, blue, green, green, green, green, green, green, green, green, green, green, green, green, green, green, green, green, green, green, green, green, green, green, green, green, green, green, green, green, green, green, green, green, green, green, green, green, green, green, green, green, green, green, green, green, green, green, green, green, green, green\n"
     ]
    }
   ],
   "source": [
    "color_options = [\"red\", \"blue\", \"green\"]\n",
    "\n",
    "# overly fancy for this example, but very useful when you have tons of categories in your variable!\n",
    "color_mapping = {species: color for species, color in zip(df['species'].unique(), color_options)}\n",
    "\n",
    "colors = [color_mapping[species] for species in df['species']]\n",
    "\n",
    "print(*colors, sep = \", \")"
   ]
  },
  {
   "cell_type": "markdown",
   "metadata": {},
   "source": [
    "That's a pretty long and ugly printout.  I usually wouldn't leave that in the notebook, but I'm showing you what we're creating."
   ]
  },
  {
   "cell_type": "code",
   "execution_count": 20,
   "metadata": {},
   "outputs": [
    {
     "data": {
      "image/png": "[encoded data removed]",
      "text/plain": [
       "<Figure size 432x288 with 1 Axes>"
      ]
     },
     "metadata": {
      "needs_background": "light"
     },
     "output_type": "display_data"
    }
   ],
   "source": [
    "plt.scatter(df['petal length'], df['petal width'], c=colors);"
   ]
  },
  {
   "cell_type": "markdown",
   "metadata": {},
   "source": [
    "Our hypothesis was correct!  Awesome!  But, which species does this single out?  \"The red one\" is a pretty unacceptable answer; we need a legend!  Here's a first guess: the matplotlib documentation says that `plt.legend` needs \"labels\", whatever that is."
   ]
  },
  {
   "cell_type": "code",
   "execution_count": 21,
   "metadata": {},
   "outputs": [
    {
     "data": {
      "image/png": "[encoded data removed]",
      "text/plain": [
       "<Figure size 432x288 with 1 Axes>"
      ]
     },
     "metadata": {
      "needs_background": "light"
     },
     "output_type": "display_data"
    }
   ],
   "source": [
    "plt.scatter(df['petal length'], df['petal width'], c=colors)\n",
    "plt.legend(labels=df['species'].unique());"
   ]
  },
  {
   "cell_type": "markdown",
   "metadata": {},
   "source": [
    "That's... not right, and a bit silly.  It turns out that in order to do this with basic matplotlib, we actually have to split our data up based on its species (category).  (You're probably thinking \"Wait, really? That's a silly way to do it!\", and you wouldn't be wrong.  Stay with me!)"
   ]
  },
  {
   "cell_type": "code",
   "execution_count": 22,
   "metadata": {},
   "outputs": [
    {
     "data": {
      "image/png": "[encoded data removed]",
      "text/plain": [
       "<Figure size 432x288 with 1 Axes>"
      ]
     },
     "metadata": {
      "needs_background": "light"
     },
     "output_type": "display_data"
    }
   ],
   "source": [
    "for species in df['species'].unique():\n",
    "    # Restrict the dataset to just those rows that are this species\n",
    "    df_restricted = df.loc[df['species'] == species]\n",
    "    \n",
    "    # Note that you can also just put in a single color to the `c` option:\n",
    "    plt.scatter(df_restricted['petal length'], \n",
    "                df_restricted['petal width'], \n",
    "                label=species,                  # This allows the legend to work\n",
    "                c=color_mapping[species])\n",
    "\n",
    "# Since we labeled the individual calls to `plt.scatter`, we can just use:\n",
    "plt.legend()\n",
    "\n",
    "# Always label your axes!\n",
    "plt.xlabel('Petal length')\n",
    "plt.ylabel('Petal width');"
   ]
  },
  {
   "cell_type": "markdown",
   "metadata": {},
   "source": [
    "Okay, *that's* a nice graph.  But it sure was a decent amount of work to get it!  The library Seaborn (which is just a wrapper around Matplotlib with a bunch of convenience functions) has some helpful tools to get us this very straightforward graph more quickly:"
   ]
  },
  {
   "cell_type": "code",
   "execution_count": 23,
   "metadata": {},
   "outputs": [
    {
     "data": {
      "image/png": "[encoded data removed]",
      "text/plain": [
       "<Figure size 360x360 with 1 Axes>"
      ]
     },
     "metadata": {
      "needs_background": "light"
     },
     "output_type": "display_data"
    }
   ],
   "source": [
    "sns.lmplot('petal length', \n",
    "           'petal width', \n",
    "           data=df, \n",
    "           hue='species',       # color the data by the 'species' column\n",
    "           fit_reg=False,       # don't bother fitting a linear regression line\n",
    "           legend_out=False);   # place the legend inside the graph, not outside"
   ]
  },
  {
   "cell_type": "markdown",
   "metadata": {},
   "source": [
    "One last **awesomely useful** plot that Seaborn can make for you, especially for machine learning applications, is called a [pair plot](https://www.quora.com/What-are-pair-plots).  It compares all the different columns/variables against each other using scatter plots, and then plots histograms along the \"diagonal\", where the \"row\" and \"column\" variables of the plot are the same."
   ]
  },
  {
   "cell_type": "code",
   "execution_count": 24,
   "metadata": {},
   "outputs": [
    {
     "name": "stderr",
     "output_type": "stream",
     "text": [
      "C:\\Users\\cdeme\\Anaconda3\\lib\\site-packages\\scipy\\stats\\stats.py:1713: FutureWarning: Using a non-tuple sequence for multidimensional indexing is deprecated; use `arr[tuple(seq)]` instead of `arr[seq]`. In the future this will be interpreted as an array index, `arr[np.array(seq)]`, which will result either in an error or a different result.\n",
      "  return np.add.reduce(sorted[indexer] * weights, axis=axis) / sumval\n"
     ]
    },
    {
     "data": {
      "image/png": "[encoded data removed]",
      "text/plain": [
       "<Figure size 823.5x720 with 20 Axes>"
      ]
     },
     "metadata": {
      "needs_background": "light"
     },
     "output_type": "display_data"
    }
   ],
   "source": [
    "sns.pairplot(df, hue='species');"
   ]
  },
  {
   "cell_type": "markdown",
   "metadata": {},
   "source": [
    "# Dealing with messy data\n",
    "\n",
    "Pandas is also really good at helping you if you have messy data.  The iris dataset that we've been working with is *famously* a clean, perfect dataset.  However, most are not, and certainly not the ones that you construct yourself.\n",
    "\n",
    "In the Fall of 2016, I surveyed my students for a Data Mining course regarding which datasets they might be interested in using.  I then tabulated this data and shared it with them.  We used it to introduce Pandas to the class.  Let's revisit it now, since it's such a great example of messy data!  I've changed it in two ways:\n",
    "\n",
    "1. I removed the names and slightly anonymized the data.\n",
    "1. I artifically made it slightly messier so that we can see a few more common data cleaning steps.\n",
    "\n",
    "<!-- Small side note: notice I used \"1.\" for both items and it updated automatically.  That's the beauty of markdown!  \n",
    "\n",
    "By the way, if you're reading this, you've entered edit mode for this cell.  I wanted to call attention to the thing above, but only if you can see it, so I wanted to add THIS text only if you're in edit mode.  How is this possible?  Well, markdown is secretly just pre-processed HTML, and this text is inside of an HTML comment, so that's why you can't see it in the final version of the cell.  The more you know! -->"
   ]
  },
  {
   "cell_type": "code",
   "execution_count": 25,
   "metadata": {},
   "outputs": [],
   "source": [
    "# make sure the file `raw_fall_2016_survey_data.csv` is in a subdirectory of this\n",
    "# directory called \"data\".\n",
    "\n",
    "df = pd.read_csv(join(\"data\", \"raw_fall_2016_survey_data.csv\"))"
   ]
  },
  {
   "cell_type": "markdown",
   "metadata": {},
   "source": [
    "Here we used [`os.path.join`](https://docs.python.org/2/library/os.path.html#os.path.join) to make sure that the file opens no matter which operating system you are using, dear reader."
   ]
  },
  {
   "cell_type": "code",
   "execution_count": 26,
   "metadata": {},
   "outputs": [
    {
     "data": {
      "text/html": [
       "<div>\n",
       "<style scoped>\n",
       "    .dataframe tbody tr th:only-of-type {\n",
       "        vertical-align: middle;\n",
       "    }\n",
       "\n",
       "    .dataframe tbody tr th {\n",
       "        vertical-align: top;\n",
       "    }\n",
       "\n",
       "    .dataframe thead th {\n",
       "        text-align: right;\n",
       "    }\n",
       "</style>\n",
       "<table border=\"1\" class=\"dataframe\">\n",
       "  <thead>\n",
       "    <tr style=\"text-align: right;\">\n",
       "      <th></th>\n",
       "      <th>Unnamed: 0</th>\n",
       "      <th>Period</th>\n",
       "      <th>Dream Job</th>\n",
       "      <th>Club 1</th>\n",
       "      <th>Club 2</th>\n",
       "      <th>Club 3</th>\n",
       "      <th>Tweets</th>\n",
       "      <th>LHC</th>\n",
       "      <th>VLA</th>\n",
       "      <th>MRI</th>\n",
       "      <th>...</th>\n",
       "      <th>psychological</th>\n",
       "      <th>books</th>\n",
       "      <th>delivery logs</th>\n",
       "      <th>county vote</th>\n",
       "      <th>temperatures</th>\n",
       "      <th>wireless str</th>\n",
       "      <th>Others1</th>\n",
       "      <th>Others2</th>\n",
       "      <th>Others3</th>\n",
       "      <th>Others4</th>\n",
       "    </tr>\n",
       "  </thead>\n",
       "  <tbody>\n",
       "    <tr>\n",
       "      <th>0</th>\n",
       "      <td>0</td>\n",
       "      <td>7</td>\n",
       "      <td>CEO</td>\n",
       "      <td>makers</td>\n",
       "      <td>techmasters</td>\n",
       "      <td>band</td>\n",
       "      <td>3</td>\n",
       "      <td>5</td>\n",
       "      <td>5.0</td>\n",
       "      <td>4</td>\n",
       "      <td>...</td>\n",
       "      <td>2</td>\n",
       "      <td>4</td>\n",
       "      <td>3</td>\n",
       "      <td>3</td>\n",
       "      <td>2</td>\n",
       "      <td>4.0</td>\n",
       "      <td>NaN</td>\n",
       "      <td>NaN</td>\n",
       "      <td>NaN</td>\n",
       "      <td>NaN</td>\n",
       "    </tr>\n",
       "    <tr>\n",
       "      <th>1</th>\n",
       "      <td>1</td>\n",
       "      <td>5</td>\n",
       "      <td>NaN</td>\n",
       "      <td>debate</td>\n",
       "      <td>investment club</td>\n",
       "      <td>aviation club</td>\n",
       "      <td>5</td>\n",
       "      <td>2</td>\n",
       "      <td>4.0</td>\n",
       "      <td>3</td>\n",
       "      <td>...</td>\n",
       "      <td>5</td>\n",
       "      <td>2</td>\n",
       "      <td>4</td>\n",
       "      <td>4</td>\n",
       "      <td>2</td>\n",
       "      <td>1.0</td>\n",
       "      <td>body language during ASM</td>\n",
       "      <td>NaN</td>\n",
       "      <td>NaN</td>\n",
       "      <td>NaN</td>\n",
       "    </tr>\n",
       "    <tr>\n",
       "      <th>2</th>\n",
       "      <td>2</td>\n",
       "      <td>7</td>\n",
       "      <td>JPL operations engineer</td>\n",
       "      <td>makers</td>\n",
       "      <td>astronomy</td>\n",
       "      <td>mock trial</td>\n",
       "      <td>1</td>\n",
       "      <td>4</td>\n",
       "      <td>5.0</td>\n",
       "      <td>3</td>\n",
       "      <td>...</td>\n",
       "      <td>1</td>\n",
       "      <td>1</td>\n",
       "      <td>4</td>\n",
       "      <td>4</td>\n",
       "      <td>2</td>\n",
       "      <td>2.0</td>\n",
       "      <td>NaN</td>\n",
       "      <td>NaN</td>\n",
       "      <td>NaN</td>\n",
       "      <td>NaN</td>\n",
       "    </tr>\n",
       "    <tr>\n",
       "      <th>3</th>\n",
       "      <td>3</td>\n",
       "      <td>5</td>\n",
       "      <td>Google R&amp;D</td>\n",
       "      <td>robotics</td>\n",
       "      <td>techmasters</td>\n",
       "      <td>german</td>\n",
       "      <td>2</td>\n",
       "      <td>3</td>\n",
       "      <td>4.8</td>\n",
       "      <td>2</td>\n",
       "      <td>...</td>\n",
       "      <td>1</td>\n",
       "      <td>4</td>\n",
       "      <td>3</td>\n",
       "      <td>4</td>\n",
       "      <td>2</td>\n",
       "      <td>3.5</td>\n",
       "      <td>radio interpretation</td>\n",
       "      <td>NaN</td>\n",
       "      <td>NaN</td>\n",
       "      <td>NaN</td>\n",
       "    </tr>\n",
       "    <tr>\n",
       "      <th>4</th>\n",
       "      <td>4</td>\n",
       "      <td>7</td>\n",
       "      <td>tech entrepreneur</td>\n",
       "      <td>phillipian</td>\n",
       "      <td>techmasters</td>\n",
       "      <td>astronomy club</td>\n",
       "      <td>5</td>\n",
       "      <td>2</td>\n",
       "      <td>5.0</td>\n",
       "      <td>2</td>\n",
       "      <td>...</td>\n",
       "      <td>3</td>\n",
       "      <td>4</td>\n",
       "      <td>3</td>\n",
       "      <td>3</td>\n",
       "      <td>4</td>\n",
       "      <td>3.0</td>\n",
       "      <td>NaN</td>\n",
       "      <td>NaN</td>\n",
       "      <td>NaN</td>\n",
       "      <td>NaN</td>\n",
       "    </tr>\n",
       "  </tbody>\n",
       "</table>\n",
       "<p>5 rows × 32 columns</p>\n",
       "</div>"
      ],
      "text/plain": [
       "   Unnamed: 0  Period                Dream Job      Club 1           Club 2  \\\n",
       "0           0       7                      CEO      makers      techmasters   \n",
       "1           1       5                      NaN      debate  investment club   \n",
       "2           2       7  JPL operations engineer      makers        astronomy   \n",
       "3           3       5               Google R&D    robotics      techmasters   \n",
       "4           4       7        tech entrepreneur  phillipian      techmasters   \n",
       "\n",
       "           Club 3  Tweets  LHC  VLA  MRI   ...     psychological  books  \\\n",
       "0            band       3    5  5.0    4   ...                 2      4   \n",
       "1   aviation club       5    2  4.0    3   ...                 5      2   \n",
       "2      mock trial       1    4  5.0    3   ...                 1      1   \n",
       "3          german       2    3  4.8    2   ...                 1      4   \n",
       "4  astronomy club       5    2  5.0    2   ...                 3      4   \n",
       "\n",
       "   delivery logs  county vote  temperatures  wireless str  \\\n",
       "0              3            3             2           4.0   \n",
       "1              4            4             2           1.0   \n",
       "2              4            4             2           2.0   \n",
       "3              3            4             2           3.5   \n",
       "4              3            3             4           3.0   \n",
       "\n",
       "                    Others1  Others2  Others3  Others4  \n",
       "0                       NaN      NaN      NaN      NaN  \n",
       "1  body language during ASM      NaN      NaN      NaN  \n",
       "2                       NaN      NaN      NaN      NaN  \n",
       "3      radio interpretation      NaN      NaN      NaN  \n",
       "4                       NaN      NaN      NaN      NaN  \n",
       "\n",
       "[5 rows x 32 columns]"
      ]
     },
     "execution_count": 26,
     "metadata": {},
     "output_type": "execute_result"
    }
   ],
   "source": [
    "df.head()"
   ]
  },
  {
   "cell_type": "markdown",
   "metadata": {},
   "source": [
    "Hm, that first column looks useless to me, like the csv has an index built in as a column, but I already have one.  Let's reload the dataset with that in mind:"
   ]
  },
  {
   "cell_type": "code",
   "execution_count": 27,
   "metadata": {},
   "outputs": [
    {
     "data": {
      "text/html": [
       "<div>\n",
       "<style scoped>\n",
       "    .dataframe tbody tr th:only-of-type {\n",
       "        vertical-align: middle;\n",
       "    }\n",
       "\n",
       "    .dataframe tbody tr th {\n",
       "        vertical-align: top;\n",
       "    }\n",
       "\n",
       "    .dataframe thead th {\n",
       "        text-align: right;\n",
       "    }\n",
       "</style>\n",
       "<table border=\"1\" class=\"dataframe\">\n",
       "  <thead>\n",
       "    <tr style=\"text-align: right;\">\n",
       "      <th></th>\n",
       "      <th>Period</th>\n",
       "      <th>Dream Job</th>\n",
       "      <th>Club 1</th>\n",
       "      <th>Club 2</th>\n",
       "      <th>Club 3</th>\n",
       "      <th>Tweets</th>\n",
       "      <th>LHC</th>\n",
       "      <th>VLA</th>\n",
       "      <th>MRI</th>\n",
       "      <th>Seis</th>\n",
       "      <th>...</th>\n",
       "      <th>psychological</th>\n",
       "      <th>books</th>\n",
       "      <th>delivery logs</th>\n",
       "      <th>county vote</th>\n",
       "      <th>temperatures</th>\n",
       "      <th>wireless str</th>\n",
       "      <th>Others1</th>\n",
       "      <th>Others2</th>\n",
       "      <th>Others3</th>\n",
       "      <th>Others4</th>\n",
       "    </tr>\n",
       "  </thead>\n",
       "  <tbody>\n",
       "    <tr>\n",
       "      <th>0</th>\n",
       "      <td>7</td>\n",
       "      <td>CEO</td>\n",
       "      <td>makers</td>\n",
       "      <td>techmasters</td>\n",
       "      <td>band</td>\n",
       "      <td>3</td>\n",
       "      <td>5</td>\n",
       "      <td>5.0</td>\n",
       "      <td>4</td>\n",
       "      <td>4</td>\n",
       "      <td>...</td>\n",
       "      <td>2</td>\n",
       "      <td>4</td>\n",
       "      <td>3</td>\n",
       "      <td>3</td>\n",
       "      <td>2</td>\n",
       "      <td>4.0</td>\n",
       "      <td>NaN</td>\n",
       "      <td>NaN</td>\n",
       "      <td>NaN</td>\n",
       "      <td>NaN</td>\n",
       "    </tr>\n",
       "    <tr>\n",
       "      <th>1</th>\n",
       "      <td>5</td>\n",
       "      <td>NaN</td>\n",
       "      <td>debate</td>\n",
       "      <td>investment club</td>\n",
       "      <td>aviation club</td>\n",
       "      <td>5</td>\n",
       "      <td>2</td>\n",
       "      <td>4.0</td>\n",
       "      <td>3</td>\n",
       "      <td>2</td>\n",
       "      <td>...</td>\n",
       "      <td>5</td>\n",
       "      <td>2</td>\n",
       "      <td>4</td>\n",
       "      <td>4</td>\n",
       "      <td>2</td>\n",
       "      <td>1.0</td>\n",
       "      <td>body language during ASM</td>\n",
       "      <td>NaN</td>\n",
       "      <td>NaN</td>\n",
       "      <td>NaN</td>\n",
       "    </tr>\n",
       "    <tr>\n",
       "      <th>2</th>\n",
       "      <td>7</td>\n",
       "      <td>JPL operations engineer</td>\n",
       "      <td>makers</td>\n",
       "      <td>astronomy</td>\n",
       "      <td>mock trial</td>\n",
       "      <td>1</td>\n",
       "      <td>4</td>\n",
       "      <td>5.0</td>\n",
       "      <td>3</td>\n",
       "      <td>3</td>\n",
       "      <td>...</td>\n",
       "      <td>1</td>\n",
       "      <td>1</td>\n",
       "      <td>4</td>\n",
       "      <td>4</td>\n",
       "      <td>2</td>\n",
       "      <td>2.0</td>\n",
       "      <td>NaN</td>\n",
       "      <td>NaN</td>\n",
       "      <td>NaN</td>\n",
       "      <td>NaN</td>\n",
       "    </tr>\n",
       "    <tr>\n",
       "      <th>3</th>\n",
       "      <td>5</td>\n",
       "      <td>Google R&amp;D</td>\n",
       "      <td>robotics</td>\n",
       "      <td>techmasters</td>\n",
       "      <td>german</td>\n",
       "      <td>2</td>\n",
       "      <td>3</td>\n",
       "      <td>4.8</td>\n",
       "      <td>2</td>\n",
       "      <td>2</td>\n",
       "      <td>...</td>\n",
       "      <td>1</td>\n",
       "      <td>4</td>\n",
       "      <td>3</td>\n",
       "      <td>4</td>\n",
       "      <td>2</td>\n",
       "      <td>3.5</td>\n",
       "      <td>radio interpretation</td>\n",
       "      <td>NaN</td>\n",
       "      <td>NaN</td>\n",
       "      <td>NaN</td>\n",
       "    </tr>\n",
       "    <tr>\n",
       "      <th>4</th>\n",
       "      <td>7</td>\n",
       "      <td>tech entrepreneur</td>\n",
       "      <td>phillipian</td>\n",
       "      <td>techmasters</td>\n",
       "      <td>astronomy club</td>\n",
       "      <td>5</td>\n",
       "      <td>2</td>\n",
       "      <td>5.0</td>\n",
       "      <td>2</td>\n",
       "      <td>3</td>\n",
       "      <td>...</td>\n",
       "      <td>3</td>\n",
       "      <td>4</td>\n",
       "      <td>3</td>\n",
       "      <td>3</td>\n",
       "      <td>4</td>\n",
       "      <td>3.0</td>\n",
       "      <td>NaN</td>\n",
       "      <td>NaN</td>\n",
       "      <td>NaN</td>\n",
       "      <td>NaN</td>\n",
       "    </tr>\n",
       "  </tbody>\n",
       "</table>\n",
       "<p>5 rows × 31 columns</p>\n",
       "</div>"
      ],
      "text/plain": [
       "   Period                Dream Job      Club 1           Club 2  \\\n",
       "0       7                      CEO      makers      techmasters   \n",
       "1       5                      NaN      debate  investment club   \n",
       "2       7  JPL operations engineer      makers        astronomy   \n",
       "3       5               Google R&D    robotics      techmasters   \n",
       "4       7        tech entrepreneur  phillipian      techmasters   \n",
       "\n",
       "           Club 3  Tweets  LHC  VLA  MRI  Seis   ...     psychological  books  \\\n",
       "0            band       3    5  5.0    4     4   ...                 2      4   \n",
       "1   aviation club       5    2  4.0    3     2   ...                 5      2   \n",
       "2      mock trial       1    4  5.0    3     3   ...                 1      1   \n",
       "3          german       2    3  4.8    2     2   ...                 1      4   \n",
       "4  astronomy club       5    2  5.0    2     3   ...                 3      4   \n",
       "\n",
       "   delivery logs  county vote  temperatures  wireless str  \\\n",
       "0              3            3             2           4.0   \n",
       "1              4            4             2           1.0   \n",
       "2              4            4             2           2.0   \n",
       "3              3            4             2           3.5   \n",
       "4              3            3             4           3.0   \n",
       "\n",
       "                    Others1  Others2  Others3  Others4  \n",
       "0                       NaN      NaN      NaN      NaN  \n",
       "1  body language during ASM      NaN      NaN      NaN  \n",
       "2                       NaN      NaN      NaN      NaN  \n",
       "3      radio interpretation      NaN      NaN      NaN  \n",
       "4                       NaN      NaN      NaN      NaN  \n",
       "\n",
       "[5 rows x 31 columns]"
      ]
     },
     "execution_count": 27,
     "metadata": {},
     "output_type": "execute_result"
    }
   ],
   "source": [
    "df = pd.read_csv(join(\"data\", \"raw_fall_2016_survey_data.csv\"), index_col=0)\n",
    "df.head()"
   ]
  },
  {
   "cell_type": "markdown",
   "metadata": {},
   "source": [
    "Great, now I see a \"`...`\" in there, because there are too many columns to view them all.  What are they?"
   ]
  },
  {
   "cell_type": "code",
   "execution_count": 28,
   "metadata": {},
   "outputs": [
    {
     "name": "stdout",
     "output_type": "stream",
     "text": [
      "Period, Dream Job, Club 1,  Club 2, Club 3, Tweets, LHC, VLA, MRI, Seis, Water Samples, Emails, Social Network, animal image, instagram, handwritten, martian landscape, sport, HTML, interview, web-ad, psychological, books, delivery logs, county vote, temperatures, wireless str, Others1, Others2, Others3, Others4\n"
     ]
    }
   ],
   "source": [
    "print(*df.columns, sep=', ')"
   ]
  },
  {
   "cell_type": "markdown",
   "metadata": {},
   "source": [
    "Okay, so my dataset comes from the students' dream job, their clubs, and their rating of all the datasets I offered them as options.  Cool.  \n",
    "\n",
    "I see a few problems here:\n",
    "\n",
    "1. People didn't call all the clubs the same thing, and \n",
    "2. It has missing data.\n",
    "\n",
    "The problem of what to do with [missing data](https://en.wikipedia.org/wiki/Missing_data) is a *huge* one, and entire branches of statistics have been set up to deal with it.  We'll get to it in a bit.\n",
    "\n",
    "One thing you could say, by the way, is that we're going to \"tidy\" the dataset.  The term [tidy data](https://www.jstatsoft.org/article/view/v059i10/v59i10.pdf) means something very specific, and is a good, industry standard goal to work toward in your data cleaning process."
   ]
  },
  {
   "cell_type": "markdown",
   "metadata": {},
   "source": [
    "Okay, time to get our hands dirty:\n",
    "\n",
    "### Cleaning up clubs:\n",
    "\n",
    "The first thing we need to do is get a handle on the issue.  Let's take a look at just the three \"club\" columns, they were the three slots on the survey that I had for students to enter the clubs in which they participate.  We can slice the dataset like so:"
   ]
  },
  {
   "cell_type": "code",
   "execution_count": 29,
   "metadata": {},
   "outputs": [
    {
     "ename": "KeyError",
     "evalue": "\"['Club 2'] not in index\"",
     "output_type": "error",
     "traceback": [
      "\u001b[1;31m---------------------------------------------------------------------------\u001b[0m",
      "\u001b[1;31mKeyError\u001b[0m                                  Traceback (most recent call last)",
      "\u001b[1;32m<ipython-input-29-fcc1e02ee82a>\u001b[0m in \u001b[0;36m<module>\u001b[1;34m\u001b[0m\n\u001b[0;32m      1\u001b[0m \u001b[1;31m# We can access the three columns like this.\u001b[0m\u001b[1;33m\u001b[0m\u001b[1;33m\u001b[0m\u001b[1;33m\u001b[0m\u001b[0m\n\u001b[1;32m----> 2\u001b[1;33m \u001b[0mdf\u001b[0m\u001b[1;33m[\u001b[0m\u001b[1;33m[\u001b[0m\u001b[1;34m\"Club 1\"\u001b[0m\u001b[1;33m,\u001b[0m \u001b[1;34m\"Club 2\"\u001b[0m\u001b[1;33m,\u001b[0m \u001b[1;34m\"Club 3\"\u001b[0m\u001b[1;33m]\u001b[0m\u001b[1;33m]\u001b[0m\u001b[1;33m.\u001b[0m\u001b[0mhead\u001b[0m\u001b[1;33m(\u001b[0m\u001b[1;36m15\u001b[0m\u001b[1;33m)\u001b[0m\u001b[1;33m\u001b[0m\u001b[1;33m\u001b[0m\u001b[0m\n\u001b[0m",
      "\u001b[1;32m~\\Anaconda3\\lib\\site-packages\\pandas\\core\\frame.py\u001b[0m in \u001b[0;36m__getitem__\u001b[1;34m(self, key)\u001b[0m\n\u001b[0;32m   2680\u001b[0m         \u001b[1;32mif\u001b[0m \u001b[0misinstance\u001b[0m\u001b[1;33m(\u001b[0m\u001b[0mkey\u001b[0m\u001b[1;33m,\u001b[0m \u001b[1;33m(\u001b[0m\u001b[0mSeries\u001b[0m\u001b[1;33m,\u001b[0m \u001b[0mnp\u001b[0m\u001b[1;33m.\u001b[0m\u001b[0mndarray\u001b[0m\u001b[1;33m,\u001b[0m \u001b[0mIndex\u001b[0m\u001b[1;33m,\u001b[0m \u001b[0mlist\u001b[0m\u001b[1;33m)\u001b[0m\u001b[1;33m)\u001b[0m\u001b[1;33m:\u001b[0m\u001b[1;33m\u001b[0m\u001b[1;33m\u001b[0m\u001b[0m\n\u001b[0;32m   2681\u001b[0m             \u001b[1;31m# either boolean or fancy integer index\u001b[0m\u001b[1;33m\u001b[0m\u001b[1;33m\u001b[0m\u001b[1;33m\u001b[0m\u001b[0m\n\u001b[1;32m-> 2682\u001b[1;33m             \u001b[1;32mreturn\u001b[0m \u001b[0mself\u001b[0m\u001b[1;33m.\u001b[0m\u001b[0m_getitem_array\u001b[0m\u001b[1;33m(\u001b[0m\u001b[0mkey\u001b[0m\u001b[1;33m)\u001b[0m\u001b[1;33m\u001b[0m\u001b[1;33m\u001b[0m\u001b[0m\n\u001b[0m\u001b[0;32m   2683\u001b[0m         \u001b[1;32melif\u001b[0m \u001b[0misinstance\u001b[0m\u001b[1;33m(\u001b[0m\u001b[0mkey\u001b[0m\u001b[1;33m,\u001b[0m \u001b[0mDataFrame\u001b[0m\u001b[1;33m)\u001b[0m\u001b[1;33m:\u001b[0m\u001b[1;33m\u001b[0m\u001b[1;33m\u001b[0m\u001b[0m\n\u001b[0;32m   2684\u001b[0m             \u001b[1;32mreturn\u001b[0m \u001b[0mself\u001b[0m\u001b[1;33m.\u001b[0m\u001b[0m_getitem_frame\u001b[0m\u001b[1;33m(\u001b[0m\u001b[0mkey\u001b[0m\u001b[1;33m)\u001b[0m\u001b[1;33m\u001b[0m\u001b[1;33m\u001b[0m\u001b[0m\n",
      "\u001b[1;32m~\\Anaconda3\\lib\\site-packages\\pandas\\core\\frame.py\u001b[0m in \u001b[0;36m_getitem_array\u001b[1;34m(self, key)\u001b[0m\n\u001b[0;32m   2724\u001b[0m             \u001b[1;32mreturn\u001b[0m \u001b[0mself\u001b[0m\u001b[1;33m.\u001b[0m\u001b[0m_take\u001b[0m\u001b[1;33m(\u001b[0m\u001b[0mindexer\u001b[0m\u001b[1;33m,\u001b[0m \u001b[0maxis\u001b[0m\u001b[1;33m=\u001b[0m\u001b[1;36m0\u001b[0m\u001b[1;33m)\u001b[0m\u001b[1;33m\u001b[0m\u001b[1;33m\u001b[0m\u001b[0m\n\u001b[0;32m   2725\u001b[0m         \u001b[1;32melse\u001b[0m\u001b[1;33m:\u001b[0m\u001b[1;33m\u001b[0m\u001b[1;33m\u001b[0m\u001b[0m\n\u001b[1;32m-> 2726\u001b[1;33m             \u001b[0mindexer\u001b[0m \u001b[1;33m=\u001b[0m \u001b[0mself\u001b[0m\u001b[1;33m.\u001b[0m\u001b[0mloc\u001b[0m\u001b[1;33m.\u001b[0m\u001b[0m_convert_to_indexer\u001b[0m\u001b[1;33m(\u001b[0m\u001b[0mkey\u001b[0m\u001b[1;33m,\u001b[0m \u001b[0maxis\u001b[0m\u001b[1;33m=\u001b[0m\u001b[1;36m1\u001b[0m\u001b[1;33m)\u001b[0m\u001b[1;33m\u001b[0m\u001b[1;33m\u001b[0m\u001b[0m\n\u001b[0m\u001b[0;32m   2727\u001b[0m             \u001b[1;32mreturn\u001b[0m \u001b[0mself\u001b[0m\u001b[1;33m.\u001b[0m\u001b[0m_take\u001b[0m\u001b[1;33m(\u001b[0m\u001b[0mindexer\u001b[0m\u001b[1;33m,\u001b[0m \u001b[0maxis\u001b[0m\u001b[1;33m=\u001b[0m\u001b[1;36m1\u001b[0m\u001b[1;33m)\u001b[0m\u001b[1;33m\u001b[0m\u001b[1;33m\u001b[0m\u001b[0m\n\u001b[0;32m   2728\u001b[0m \u001b[1;33m\u001b[0m\u001b[0m\n",
      "\u001b[1;32m~\\Anaconda3\\lib\\site-packages\\pandas\\core\\indexing.py\u001b[0m in \u001b[0;36m_convert_to_indexer\u001b[1;34m(self, obj, axis, is_setter)\u001b[0m\n\u001b[0;32m   1325\u001b[0m                 \u001b[1;32mif\u001b[0m \u001b[0mmask\u001b[0m\u001b[1;33m.\u001b[0m\u001b[0many\u001b[0m\u001b[1;33m(\u001b[0m\u001b[1;33m)\u001b[0m\u001b[1;33m:\u001b[0m\u001b[1;33m\u001b[0m\u001b[1;33m\u001b[0m\u001b[0m\n\u001b[0;32m   1326\u001b[0m                     raise KeyError('{mask} not in index'\n\u001b[1;32m-> 1327\u001b[1;33m                                    .format(mask=objarr[mask]))\n\u001b[0m\u001b[0;32m   1328\u001b[0m \u001b[1;33m\u001b[0m\u001b[0m\n\u001b[0;32m   1329\u001b[0m                 \u001b[1;32mreturn\u001b[0m \u001b[0mcom\u001b[0m\u001b[1;33m.\u001b[0m\u001b[0m_values_from_object\u001b[0m\u001b[1;33m(\u001b[0m\u001b[0mindexer\u001b[0m\u001b[1;33m)\u001b[0m\u001b[1;33m\u001b[0m\u001b[1;33m\u001b[0m\u001b[0m\n",
      "\u001b[1;31mKeyError\u001b[0m: \"['Club 2'] not in index\""
     ]
    }
   ],
   "source": [
    "# We can access the three columns like this.\n",
    "df[[\"Club 1\", \"Club 2\", \"Club 3\"]].head(15)"
   ]
  },
  {
   "cell_type": "markdown",
   "metadata": {},
   "source": [
    "If you're following along at home exactly the way I hope you are, you should have just gotten an error:\n",
    "\n",
    "```\n",
    "KeyError: \"['Club 2'] not in index\"\n",
    "```\n",
    "\n",
    "That seems strange, because when I did `df.columns`, I saw it there.  Let's take a closer look:"
   ]
  },
  {
   "cell_type": "code",
   "execution_count": 31,
   "metadata": {},
   "outputs": [
    {
     "name": "stdout",
     "output_type": "stream",
     "text": [
      "Club 1\n",
      " Club 2\n",
      "Club 3\n"
     ]
    }
   ],
   "source": [
    "print(*[column_name for column_name in df.columns if \"Club\" in column_name], sep='\\n')"
   ]
  },
  {
   "cell_type": "markdown",
   "metadata": {},
   "source": [
    "Oh, hm.  That column looks like it has an extra space in it.  Let's fix that, and any other weirdly-spaced columns along the way:"
   ]
  },
  {
   "cell_type": "code",
   "execution_count": 32,
   "metadata": {},
   "outputs": [
    {
     "data": {
      "text/plain": [
       "'No more beginning or ending spaces!'"
      ]
     },
     "execution_count": 32,
     "metadata": {},
     "output_type": "execute_result"
    }
   ],
   "source": [
    "# the function <my_string>.strip() is what you're looking for here:\n",
    "\"       \\t   \\t \\t No more beginning or ending spaces!       \".strip()"
   ]
  },
  {
   "cell_type": "code",
   "execution_count": 33,
   "metadata": {},
   "outputs": [
    {
     "name": "stdout",
     "output_type": "stream",
     "text": [
      "Club 1\n",
      "Club 2\n",
      "Club 3\n"
     ]
    }
   ],
   "source": [
    "df.columns = [column.strip() for column in df.columns]\n",
    "print(*[column for column in df.columns if \"Club\" in column], sep='\\n')"
   ]
  },
  {
   "cell_type": "markdown",
   "metadata": {},
   "source": [
    "Okay, that's good to go.  But you know what, I don't really like the fact that there are *any* spaces in the column names, including separating words.  Why?  First of all, it's non-standard.  Second of all:"
   ]
  },
  {
   "cell_type": "code",
   "execution_count": 34,
   "metadata": {},
   "outputs": [
    {
     "name": "stdout",
     "output_type": "stream",
     "text": [
      "[7 5]\n"
     ]
    }
   ],
   "source": [
    "# Notice that the column named `Period` has no spaces in its name.  This allows me to say:\n",
    "print(df.Period.unique()) # unique() just collects the unique items from that column (or any list)"
   ]
  },
  {
   "cell_type": "markdown",
   "metadata": {},
   "source": [
    "(Okay, so I had two sections of that class.)  If I wanted to do the same thing with another column, like `\"wireless str\"`, I would need to do:"
   ]
  },
  {
   "cell_type": "code",
   "execution_count": 35,
   "metadata": {},
   "outputs": [
    {
     "name": "stdout",
     "output_type": "stream",
     "text": [
      "[4.  1.  2.  3.5 3.  5. ]\n"
     ]
    }
   ],
   "source": [
    "print(df[\"wireless str\"].unique())"
   ]
  },
  {
   "cell_type": "markdown",
   "metadata": {},
   "source": [
    "Which is a little uglier.  So, let's *CamelCase* it!"
   ]
  },
  {
   "cell_type": "code",
   "execution_count": 36,
   "metadata": {},
   "outputs": [
    {
     "name": "stdout",
     "output_type": "stream",
     "text": [
      "Period, DreamJob, Club1, Club2, Club3, Tweets, LHC, VLA, MRI, Seis, WaterSamples, Emails, SocialNetwork, AnimalImage, instagram, handwritten, MartianLandscape, sport, HTML, interview, web-ad, psychological, books, DeliveryLogs, CountyVote, temperatures, WirelessStr, Others1, Others2, Others3, Others4\n"
     ]
    }
   ],
   "source": [
    "df.columns = [col.title().replace(\" \", \"\") if \" \" in col else col for col in df.columns]\n",
    "\n",
    "print(*df.columns, sep=', ')"
   ]
  },
  {
   "cell_type": "markdown",
   "metadata": {},
   "source": [
    "Awesome.  \n",
    "\n",
    "#### Back to clubs\n",
    "\n",
    "Now let's try that original command regarding the clubs again.  Note that in order to perform a [slice](https://pandas.pydata.org/pandas-docs/stable/indexing.html) of the data involving multiple columns, you need to give the indexing command `df[<blah>]` a list of column names, hence the double brackets `[[...]]`."
   ]
  },
  {
   "cell_type": "code",
   "execution_count": 37,
   "metadata": {},
   "outputs": [
    {
     "data": {
      "text/html": [
       "<div>\n",
       "<style scoped>\n",
       "    .dataframe tbody tr th:only-of-type {\n",
       "        vertical-align: middle;\n",
       "    }\n",
       "\n",
       "    .dataframe tbody tr th {\n",
       "        vertical-align: top;\n",
       "    }\n",
       "\n",
       "    .dataframe thead th {\n",
       "        text-align: right;\n",
       "    }\n",
       "</style>\n",
       "<table border=\"1\" class=\"dataframe\">\n",
       "  <thead>\n",
       "    <tr style=\"text-align: right;\">\n",
       "      <th></th>\n",
       "      <th>Club1</th>\n",
       "      <th>Club2</th>\n",
       "      <th>Club3</th>\n",
       "    </tr>\n",
       "  </thead>\n",
       "  <tbody>\n",
       "    <tr>\n",
       "      <th>0</th>\n",
       "      <td>makers</td>\n",
       "      <td>techmasters</td>\n",
       "      <td>band</td>\n",
       "    </tr>\n",
       "    <tr>\n",
       "      <th>1</th>\n",
       "      <td>debate</td>\n",
       "      <td>investment club</td>\n",
       "      <td>aviation club</td>\n",
       "    </tr>\n",
       "    <tr>\n",
       "      <th>2</th>\n",
       "      <td>makers</td>\n",
       "      <td>astronomy</td>\n",
       "      <td>mock trial</td>\n",
       "    </tr>\n",
       "    <tr>\n",
       "      <th>3</th>\n",
       "      <td>robotics</td>\n",
       "      <td>techmasters</td>\n",
       "      <td>german</td>\n",
       "    </tr>\n",
       "    <tr>\n",
       "      <th>4</th>\n",
       "      <td>phillipian</td>\n",
       "      <td>techmasters</td>\n",
       "      <td>astronomy club</td>\n",
       "    </tr>\n",
       "    <tr>\n",
       "      <th>5</th>\n",
       "      <td>philo/debate</td>\n",
       "      <td>model UN</td>\n",
       "      <td>Democracy project</td>\n",
       "    </tr>\n",
       "    <tr>\n",
       "      <th>6</th>\n",
       "      <td>cs club</td>\n",
       "      <td>filo</td>\n",
       "      <td>movie makers</td>\n",
       "    </tr>\n",
       "    <tr>\n",
       "      <th>7</th>\n",
       "      <td>economics society</td>\n",
       "      <td>big ideas club</td>\n",
       "      <td>phillipian</td>\n",
       "    </tr>\n",
       "    <tr>\n",
       "      <th>8</th>\n",
       "      <td>robotics</td>\n",
       "      <td>cs club</td>\n",
       "      <td>techmasters</td>\n",
       "    </tr>\n",
       "    <tr>\n",
       "      <th>9</th>\n",
       "      <td>robotics</td>\n",
       "      <td>ecoaction</td>\n",
       "      <td>NaN</td>\n",
       "    </tr>\n",
       "    <tr>\n",
       "      <th>10</th>\n",
       "      <td>robotics</td>\n",
       "      <td>techmasters</td>\n",
       "      <td>gaming</td>\n",
       "    </tr>\n",
       "    <tr>\n",
       "      <th>11</th>\n",
       "      <td>techmasters</td>\n",
       "      <td>cs club</td>\n",
       "      <td>NaN</td>\n",
       "    </tr>\n",
       "    <tr>\n",
       "      <th>12</th>\n",
       "      <td>WOFO</td>\n",
       "      <td>GSA</td>\n",
       "      <td>NaN</td>\n",
       "    </tr>\n",
       "    <tr>\n",
       "      <th>13</th>\n",
       "      <td>international club</td>\n",
       "      <td>SLAM/dance</td>\n",
       "      <td>out of the blue</td>\n",
       "    </tr>\n",
       "    <tr>\n",
       "      <th>14</th>\n",
       "      <td>cs club</td>\n",
       "      <td>band</td>\n",
       "      <td>peer tutor</td>\n",
       "    </tr>\n",
       "  </tbody>\n",
       "</table>\n",
       "</div>"
      ],
      "text/plain": [
       "                 Club1            Club2              Club3\n",
       "0               makers      techmasters               band\n",
       "1               debate  investment club      aviation club\n",
       "2               makers        astronomy         mock trial\n",
       "3             robotics      techmasters             german\n",
       "4           phillipian      techmasters     astronomy club\n",
       "5         philo/debate         model UN  Democracy project\n",
       "6              cs club             filo       movie makers\n",
       "7    economics society   big ideas club         phillipian\n",
       "8             robotics          cs club        techmasters\n",
       "9             robotics        ecoaction                NaN\n",
       "10            robotics      techmasters             gaming\n",
       "11         techmasters          cs club                NaN\n",
       "12                WOFO              GSA                NaN\n",
       "13  international club       SLAM/dance    out of the blue\n",
       "14             cs club             band         peer tutor"
      ]
     },
     "execution_count": 37,
     "metadata": {},
     "output_type": "execute_result"
    }
   ],
   "source": [
    "df[[\"Club1\", \"Club2\", \"Club3\"]].head(15)"
   ]
  },
  {
   "cell_type": "markdown",
   "metadata": {},
   "source": [
    "Interesting.  Let's make a list of all clubs.  By the way, the \"NaN\" columns stand for [not a number](https://en.wikipedia.org/wiki/NaN); they indicate missing data.  In this situation, it's because that student didn't report three clubs."
   ]
  },
  {
   "cell_type": "code",
   "execution_count": 38,
   "metadata": {},
   "outputs": [],
   "source": [
    "club_columns = [\"Club1\", \"Club2\", \"Club3\"]\n",
    "\n",
    "clubs = []\n",
    "\n",
    "# This is sort of an ugly way to grab all these clubs.  There are many other options!\n",
    "for _, club in df[club_columns].iterrows():\n",
    "    clubs.extend([club[i] for i in range(3) if pd.notnull(club[i]) and club[i] not in clubs])"
   ]
  },
  {
   "cell_type": "code",
   "execution_count": 39,
   "metadata": {},
   "outputs": [
    {
     "name": "stdout",
     "output_type": "stream",
     "text": [
      "Democracy project, GSA, SLAM/dance, WOFO, astronomy, astronomy club, aviation club, band, big ideas club, blue moon (sci), chess, cs club, debate, ecoaction, economics society, entrpreneurs club, filo, gaming, german, indopak, international club, investment club, makers, math, mock trial, model UN, movie makers, out of the blue, peer tutor, phillipian, philo/debate, quiz bowl, robotics, sports medicine, student activities, tang, techmasters, tour guide\n"
     ]
    }
   ],
   "source": [
    "print(*sorted(clubs), sep = ', ')"
   ]
  },
  {
   "cell_type": "markdown",
   "metadata": {},
   "source": [
    "Okay, there are a few ways to deal with this.  Here are the two extremes:\n",
    "\n",
    "* **Group the ones obviously referring to the same clubs, then create indicator columns for each club**.  An *indicator column* is just a 1 or 0 based on whether a given student is in the given club.  This has quite an obvious, important benefit:  You keep all of the *signal* (information) contained in the dataset, and so that might be helpful for us in our analysis.  However, it has the effect of greatly increasing the \"width\" of your dataset (the number of \"columns\", or \"predictors\", or \"variables\"), which may make the dataset intractible.  With a dataset of this tiny size, I'm not too concerned about that.  The other potential issue is that you're not taking into effect that some of these clubs are very similar to each other, and some are very different.  By making these indicators weighted the same, you may be capturing a great deal of *noise*, a word meaning the random fluctuations that comes from data.  This is sometimes called *one-hotting*.\n",
    "* **Create two classes of clubs, based on something you may think is relevant.**  For example, I may make \"techy\" clubs and \"non-techy\" clubs.  This has the benefit of not having as much noise, but it also loses some signal.  This is often called *binning*.\n",
    "\n",
    "What you choose is up to you, and it's mostly a matter of how much time you have to go through all the ways of modeling your data.  You could have the motto of \"always try everything\", and that may work out for you in terms of getting the best analysis.  Or you may just want a \"good enough\" result, and roll with it.  There's really no right or wrong answer; it's really a matter of how much time you want to spend with this particular dataset and how much noise you can tolerate.\n",
    "\n",
    "For now, I'll take a middle ground, and I'll hard code these into a few groups.  It's still binning, but I'll use 6 bins instead of 2.  There really isn't that much easier of a way to do this without signicant natural language processing."
   ]
  },
  {
   "cell_type": "code",
   "execution_count": 40,
   "metadata": {},
   "outputs": [],
   "source": [
    "club_groups = {'philo/poli/econ': ['model UN','philo/debate', 'investment club','Democracy project',\n",
    "                                   'economics society','mock trial','debate','filo'],\n",
    "               'social': ['out of the blue', 'ecoaction','GSA','WOFO','SLAM/dance',\n",
    "                          'quiz bowl','band','movie makers'],\n",
    "               'PA duties' : ['tour guide','student activities','phillipian','peer tutor'],\n",
    "               'international': ['german', 'indopak','international club',],\n",
    "               'math/sci/tech': ['gaming', 'astronomy club','math','blue moon (sci)',\n",
    "                                 'cs club','techmasters','makers','astronomy','aviation club',\n",
    "                                 'chess','robotics'],\n",
    "               'entreprenuerial': ['big ideas club', 'tang', 'entrpreneurs club']}\n",
    "\n",
    "for group, clubs in club_groups.items():\n",
    "    df[group] = df[club_columns].isin(clubs).sum(axis=1)"
   ]
  },
  {
   "cell_type": "code",
   "execution_count": 41,
   "metadata": {},
   "outputs": [
    {
     "data": {
      "text/html": [
       "<div>\n",
       "<style scoped>\n",
       "    .dataframe tbody tr th:only-of-type {\n",
       "        vertical-align: middle;\n",
       "    }\n",
       "\n",
       "    .dataframe tbody tr th {\n",
       "        vertical-align: top;\n",
       "    }\n",
       "\n",
       "    .dataframe thead th {\n",
       "        text-align: right;\n",
       "    }\n",
       "</style>\n",
       "<table border=\"1\" class=\"dataframe\">\n",
       "  <thead>\n",
       "    <tr style=\"text-align: right;\">\n",
       "      <th></th>\n",
       "      <th>Period</th>\n",
       "      <th>DreamJob</th>\n",
       "      <th>Club1</th>\n",
       "      <th>Club2</th>\n",
       "      <th>Club3</th>\n",
       "      <th>Tweets</th>\n",
       "      <th>LHC</th>\n",
       "      <th>VLA</th>\n",
       "      <th>MRI</th>\n",
       "      <th>Seis</th>\n",
       "      <th>...</th>\n",
       "      <th>Others1</th>\n",
       "      <th>Others2</th>\n",
       "      <th>Others3</th>\n",
       "      <th>Others4</th>\n",
       "      <th>philo/poli/econ</th>\n",
       "      <th>social</th>\n",
       "      <th>PA duties</th>\n",
       "      <th>international</th>\n",
       "      <th>math/sci/tech</th>\n",
       "      <th>entreprenuerial</th>\n",
       "    </tr>\n",
       "  </thead>\n",
       "  <tbody>\n",
       "    <tr>\n",
       "      <th>0</th>\n",
       "      <td>7</td>\n",
       "      <td>CEO</td>\n",
       "      <td>makers</td>\n",
       "      <td>techmasters</td>\n",
       "      <td>band</td>\n",
       "      <td>3</td>\n",
       "      <td>5</td>\n",
       "      <td>5.0</td>\n",
       "      <td>4</td>\n",
       "      <td>4</td>\n",
       "      <td>...</td>\n",
       "      <td>NaN</td>\n",
       "      <td>NaN</td>\n",
       "      <td>NaN</td>\n",
       "      <td>NaN</td>\n",
       "      <td>0</td>\n",
       "      <td>1</td>\n",
       "      <td>0</td>\n",
       "      <td>0</td>\n",
       "      <td>2</td>\n",
       "      <td>0</td>\n",
       "    </tr>\n",
       "    <tr>\n",
       "      <th>1</th>\n",
       "      <td>5</td>\n",
       "      <td>NaN</td>\n",
       "      <td>debate</td>\n",
       "      <td>investment club</td>\n",
       "      <td>aviation club</td>\n",
       "      <td>5</td>\n",
       "      <td>2</td>\n",
       "      <td>4.0</td>\n",
       "      <td>3</td>\n",
       "      <td>2</td>\n",
       "      <td>...</td>\n",
       "      <td>body language during ASM</td>\n",
       "      <td>NaN</td>\n",
       "      <td>NaN</td>\n",
       "      <td>NaN</td>\n",
       "      <td>2</td>\n",
       "      <td>0</td>\n",
       "      <td>0</td>\n",
       "      <td>0</td>\n",
       "      <td>1</td>\n",
       "      <td>0</td>\n",
       "    </tr>\n",
       "    <tr>\n",
       "      <th>2</th>\n",
       "      <td>7</td>\n",
       "      <td>JPL operations engineer</td>\n",
       "      <td>makers</td>\n",
       "      <td>astronomy</td>\n",
       "      <td>mock trial</td>\n",
       "      <td>1</td>\n",
       "      <td>4</td>\n",
       "      <td>5.0</td>\n",
       "      <td>3</td>\n",
       "      <td>3</td>\n",
       "      <td>...</td>\n",
       "      <td>NaN</td>\n",
       "      <td>NaN</td>\n",
       "      <td>NaN</td>\n",
       "      <td>NaN</td>\n",
       "      <td>1</td>\n",
       "      <td>0</td>\n",
       "      <td>0</td>\n",
       "      <td>0</td>\n",
       "      <td>2</td>\n",
       "      <td>0</td>\n",
       "    </tr>\n",
       "    <tr>\n",
       "      <th>3</th>\n",
       "      <td>5</td>\n",
       "      <td>Google R&amp;D</td>\n",
       "      <td>robotics</td>\n",
       "      <td>techmasters</td>\n",
       "      <td>german</td>\n",
       "      <td>2</td>\n",
       "      <td>3</td>\n",
       "      <td>4.8</td>\n",
       "      <td>2</td>\n",
       "      <td>2</td>\n",
       "      <td>...</td>\n",
       "      <td>radio interpretation</td>\n",
       "      <td>NaN</td>\n",
       "      <td>NaN</td>\n",
       "      <td>NaN</td>\n",
       "      <td>0</td>\n",
       "      <td>0</td>\n",
       "      <td>0</td>\n",
       "      <td>1</td>\n",
       "      <td>2</td>\n",
       "      <td>0</td>\n",
       "    </tr>\n",
       "    <tr>\n",
       "      <th>4</th>\n",
       "      <td>7</td>\n",
       "      <td>tech entrepreneur</td>\n",
       "      <td>phillipian</td>\n",
       "      <td>techmasters</td>\n",
       "      <td>astronomy club</td>\n",
       "      <td>5</td>\n",
       "      <td>2</td>\n",
       "      <td>5.0</td>\n",
       "      <td>2</td>\n",
       "      <td>3</td>\n",
       "      <td>...</td>\n",
       "      <td>NaN</td>\n",
       "      <td>NaN</td>\n",
       "      <td>NaN</td>\n",
       "      <td>NaN</td>\n",
       "      <td>0</td>\n",
       "      <td>0</td>\n",
       "      <td>1</td>\n",
       "      <td>0</td>\n",
       "      <td>2</td>\n",
       "      <td>0</td>\n",
       "    </tr>\n",
       "  </tbody>\n",
       "</table>\n",
       "<p>5 rows × 37 columns</p>\n",
       "</div>"
      ],
      "text/plain": [
       "   Period                 DreamJob       Club1            Club2  \\\n",
       "0       7                      CEO      makers      techmasters   \n",
       "1       5                      NaN      debate  investment club   \n",
       "2       7  JPL operations engineer      makers        astronomy   \n",
       "3       5               Google R&D    robotics      techmasters   \n",
       "4       7        tech entrepreneur  phillipian      techmasters   \n",
       "\n",
       "            Club3  Tweets  LHC  VLA  MRI  Seis       ...         \\\n",
       "0            band       3    5  5.0    4     4       ...          \n",
       "1   aviation club       5    2  4.0    3     2       ...          \n",
       "2      mock trial       1    4  5.0    3     3       ...          \n",
       "3          german       2    3  4.8    2     2       ...          \n",
       "4  astronomy club       5    2  5.0    2     3       ...          \n",
       "\n",
       "                    Others1  Others2  Others3  Others4  philo/poli/econ  \\\n",
       "0                       NaN      NaN      NaN      NaN                0   \n",
       "1  body language during ASM      NaN      NaN      NaN                2   \n",
       "2                       NaN      NaN      NaN      NaN                1   \n",
       "3      radio interpretation      NaN      NaN      NaN                0   \n",
       "4                       NaN      NaN      NaN      NaN                0   \n",
       "\n",
       "   social  PA duties  international  math/sci/tech  entreprenuerial  \n",
       "0       1          0              0              2                0  \n",
       "1       0          0              0              1                0  \n",
       "2       0          0              0              2                0  \n",
       "3       0          0              1              2                0  \n",
       "4       0          1              0              2                0  \n",
       "\n",
       "[5 rows x 37 columns]"
      ]
     },
     "execution_count": 41,
     "metadata": {},
     "output_type": "execute_result"
    }
   ],
   "source": [
    "df.head() # Scroll way to the right to see our work!"
   ]
  },
  {
   "cell_type": "markdown",
   "metadata": {},
   "source": [
    "### Cleaning up Dream jobs\n",
    "\n",
    "Same story for these."
   ]
  },
  {
   "cell_type": "code",
   "execution_count": 42,
   "metadata": {},
   "outputs": [],
   "source": [
    "dream_jobs = []\n",
    "\n",
    "for job in df['DreamJob']:\n",
    "    if pd.notnull(job): \n",
    "        dream_jobs.append(job)"
   ]
  },
  {
   "cell_type": "code",
   "execution_count": 43,
   "metadata": {},
   "outputs": [],
   "source": [
    "job_groups = {'jobs_tech':['Google R&D', 'tech entrepreneur','Developer'],\n",
    "              'jobs_science': ['biomedical engineer','math-related','research scientist', \n",
    "                          'JPL operations engineer','neuroscientist'],\n",
    "              'jobs_business': ['CEO', 'product manager','venture capital',],\n",
    "              'jobs_fantastic': ['rollerskating waitress']}"
   ]
  },
  {
   "cell_type": "code",
   "execution_count": 44,
   "metadata": {},
   "outputs": [
    {
     "data": {
      "text/html": [
       "<div>\n",
       "<style scoped>\n",
       "    .dataframe tbody tr th:only-of-type {\n",
       "        vertical-align: middle;\n",
       "    }\n",
       "\n",
       "    .dataframe tbody tr th {\n",
       "        vertical-align: top;\n",
       "    }\n",
       "\n",
       "    .dataframe thead th {\n",
       "        text-align: right;\n",
       "    }\n",
       "</style>\n",
       "<table border=\"1\" class=\"dataframe\">\n",
       "  <thead>\n",
       "    <tr style=\"text-align: right;\">\n",
       "      <th></th>\n",
       "      <th>Period</th>\n",
       "      <th>DreamJob</th>\n",
       "      <th>Club1</th>\n",
       "      <th>Club2</th>\n",
       "      <th>Club3</th>\n",
       "      <th>Tweets</th>\n",
       "      <th>LHC</th>\n",
       "      <th>VLA</th>\n",
       "      <th>MRI</th>\n",
       "      <th>Seis</th>\n",
       "      <th>...</th>\n",
       "      <th>philo/poli/econ</th>\n",
       "      <th>social</th>\n",
       "      <th>PA duties</th>\n",
       "      <th>international</th>\n",
       "      <th>math/sci/tech</th>\n",
       "      <th>entreprenuerial</th>\n",
       "      <th>jobs_tech</th>\n",
       "      <th>jobs_science</th>\n",
       "      <th>jobs_business</th>\n",
       "      <th>jobs_fantastic</th>\n",
       "    </tr>\n",
       "  </thead>\n",
       "  <tbody>\n",
       "    <tr>\n",
       "      <th>0</th>\n",
       "      <td>7</td>\n",
       "      <td>CEO</td>\n",
       "      <td>makers</td>\n",
       "      <td>techmasters</td>\n",
       "      <td>band</td>\n",
       "      <td>3</td>\n",
       "      <td>5</td>\n",
       "      <td>5.0</td>\n",
       "      <td>4</td>\n",
       "      <td>4</td>\n",
       "      <td>...</td>\n",
       "      <td>0</td>\n",
       "      <td>1</td>\n",
       "      <td>0</td>\n",
       "      <td>0</td>\n",
       "      <td>2</td>\n",
       "      <td>0</td>\n",
       "      <td>0</td>\n",
       "      <td>0</td>\n",
       "      <td>1</td>\n",
       "      <td>0</td>\n",
       "    </tr>\n",
       "    <tr>\n",
       "      <th>1</th>\n",
       "      <td>5</td>\n",
       "      <td>NaN</td>\n",
       "      <td>debate</td>\n",
       "      <td>investment club</td>\n",
       "      <td>aviation club</td>\n",
       "      <td>5</td>\n",
       "      <td>2</td>\n",
       "      <td>4.0</td>\n",
       "      <td>3</td>\n",
       "      <td>2</td>\n",
       "      <td>...</td>\n",
       "      <td>2</td>\n",
       "      <td>0</td>\n",
       "      <td>0</td>\n",
       "      <td>0</td>\n",
       "      <td>1</td>\n",
       "      <td>0</td>\n",
       "      <td>0</td>\n",
       "      <td>0</td>\n",
       "      <td>0</td>\n",
       "      <td>0</td>\n",
       "    </tr>\n",
       "    <tr>\n",
       "      <th>2</th>\n",
       "      <td>7</td>\n",
       "      <td>JPL operations engineer</td>\n",
       "      <td>makers</td>\n",
       "      <td>astronomy</td>\n",
       "      <td>mock trial</td>\n",
       "      <td>1</td>\n",
       "      <td>4</td>\n",
       "      <td>5.0</td>\n",
       "      <td>3</td>\n",
       "      <td>3</td>\n",
       "      <td>...</td>\n",
       "      <td>1</td>\n",
       "      <td>0</td>\n",
       "      <td>0</td>\n",
       "      <td>0</td>\n",
       "      <td>2</td>\n",
       "      <td>0</td>\n",
       "      <td>0</td>\n",
       "      <td>1</td>\n",
       "      <td>0</td>\n",
       "      <td>0</td>\n",
       "    </tr>\n",
       "    <tr>\n",
       "      <th>3</th>\n",
       "      <td>5</td>\n",
       "      <td>Google R&amp;D</td>\n",
       "      <td>robotics</td>\n",
       "      <td>techmasters</td>\n",
       "      <td>german</td>\n",
       "      <td>2</td>\n",
       "      <td>3</td>\n",
       "      <td>4.8</td>\n",
       "      <td>2</td>\n",
       "      <td>2</td>\n",
       "      <td>...</td>\n",
       "      <td>0</td>\n",
       "      <td>0</td>\n",
       "      <td>0</td>\n",
       "      <td>1</td>\n",
       "      <td>2</td>\n",
       "      <td>0</td>\n",
       "      <td>1</td>\n",
       "      <td>0</td>\n",
       "      <td>0</td>\n",
       "      <td>0</td>\n",
       "    </tr>\n",
       "    <tr>\n",
       "      <th>4</th>\n",
       "      <td>7</td>\n",
       "      <td>tech entrepreneur</td>\n",
       "      <td>phillipian</td>\n",
       "      <td>techmasters</td>\n",
       "      <td>astronomy club</td>\n",
       "      <td>5</td>\n",
       "      <td>2</td>\n",
       "      <td>5.0</td>\n",
       "      <td>2</td>\n",
       "      <td>3</td>\n",
       "      <td>...</td>\n",
       "      <td>0</td>\n",
       "      <td>0</td>\n",
       "      <td>1</td>\n",
       "      <td>0</td>\n",
       "      <td>2</td>\n",
       "      <td>0</td>\n",
       "      <td>1</td>\n",
       "      <td>0</td>\n",
       "      <td>0</td>\n",
       "      <td>0</td>\n",
       "    </tr>\n",
       "    <tr>\n",
       "      <th>5</th>\n",
       "      <td>5</td>\n",
       "      <td>rollerskating waitress</td>\n",
       "      <td>philo/debate</td>\n",
       "      <td>model UN</td>\n",
       "      <td>Democracy project</td>\n",
       "      <td>5</td>\n",
       "      <td>2</td>\n",
       "      <td>2.0</td>\n",
       "      <td>4</td>\n",
       "      <td>4</td>\n",
       "      <td>...</td>\n",
       "      <td>3</td>\n",
       "      <td>0</td>\n",
       "      <td>0</td>\n",
       "      <td>0</td>\n",
       "      <td>0</td>\n",
       "      <td>0</td>\n",
       "      <td>0</td>\n",
       "      <td>0</td>\n",
       "      <td>0</td>\n",
       "      <td>1</td>\n",
       "    </tr>\n",
       "    <tr>\n",
       "      <th>6</th>\n",
       "      <td>7</td>\n",
       "      <td>entrepreneur</td>\n",
       "      <td>cs club</td>\n",
       "      <td>filo</td>\n",
       "      <td>movie makers</td>\n",
       "      <td>2</td>\n",
       "      <td>3</td>\n",
       "      <td>2.0</td>\n",
       "      <td>3</td>\n",
       "      <td>5</td>\n",
       "      <td>...</td>\n",
       "      <td>1</td>\n",
       "      <td>1</td>\n",
       "      <td>0</td>\n",
       "      <td>0</td>\n",
       "      <td>1</td>\n",
       "      <td>0</td>\n",
       "      <td>0</td>\n",
       "      <td>0</td>\n",
       "      <td>0</td>\n",
       "      <td>0</td>\n",
       "    </tr>\n",
       "    <tr>\n",
       "      <th>7</th>\n",
       "      <td>5</td>\n",
       "      <td>venture capital</td>\n",
       "      <td>economics society</td>\n",
       "      <td>big ideas club</td>\n",
       "      <td>phillipian</td>\n",
       "      <td>4</td>\n",
       "      <td>2</td>\n",
       "      <td>2.0</td>\n",
       "      <td>3</td>\n",
       "      <td>2</td>\n",
       "      <td>...</td>\n",
       "      <td>1</td>\n",
       "      <td>0</td>\n",
       "      <td>1</td>\n",
       "      <td>0</td>\n",
       "      <td>0</td>\n",
       "      <td>1</td>\n",
       "      <td>0</td>\n",
       "      <td>0</td>\n",
       "      <td>1</td>\n",
       "      <td>0</td>\n",
       "    </tr>\n",
       "    <tr>\n",
       "      <th>8</th>\n",
       "      <td>5</td>\n",
       "      <td>tech entrepreneur</td>\n",
       "      <td>robotics</td>\n",
       "      <td>cs club</td>\n",
       "      <td>techmasters</td>\n",
       "      <td>4</td>\n",
       "      <td>5</td>\n",
       "      <td>4.0</td>\n",
       "      <td>3</td>\n",
       "      <td>1</td>\n",
       "      <td>...</td>\n",
       "      <td>0</td>\n",
       "      <td>0</td>\n",
       "      <td>0</td>\n",
       "      <td>0</td>\n",
       "      <td>3</td>\n",
       "      <td>0</td>\n",
       "      <td>1</td>\n",
       "      <td>0</td>\n",
       "      <td>0</td>\n",
       "      <td>0</td>\n",
       "    </tr>\n",
       "    <tr>\n",
       "      <th>9</th>\n",
       "      <td>5</td>\n",
       "      <td>research scientist</td>\n",
       "      <td>robotics</td>\n",
       "      <td>ecoaction</td>\n",
       "      <td>NaN</td>\n",
       "      <td>5</td>\n",
       "      <td>5</td>\n",
       "      <td>2.0</td>\n",
       "      <td>5</td>\n",
       "      <td>2</td>\n",
       "      <td>...</td>\n",
       "      <td>0</td>\n",
       "      <td>1</td>\n",
       "      <td>0</td>\n",
       "      <td>0</td>\n",
       "      <td>1</td>\n",
       "      <td>0</td>\n",
       "      <td>0</td>\n",
       "      <td>1</td>\n",
       "      <td>0</td>\n",
       "      <td>0</td>\n",
       "    </tr>\n",
       "    <tr>\n",
       "      <th>10</th>\n",
       "      <td>7</td>\n",
       "      <td>math-related</td>\n",
       "      <td>robotics</td>\n",
       "      <td>techmasters</td>\n",
       "      <td>gaming</td>\n",
       "      <td>4</td>\n",
       "      <td>5</td>\n",
       "      <td>4.0</td>\n",
       "      <td>3</td>\n",
       "      <td>2</td>\n",
       "      <td>...</td>\n",
       "      <td>0</td>\n",
       "      <td>0</td>\n",
       "      <td>0</td>\n",
       "      <td>0</td>\n",
       "      <td>3</td>\n",
       "      <td>0</td>\n",
       "      <td>0</td>\n",
       "      <td>1</td>\n",
       "      <td>0</td>\n",
       "      <td>0</td>\n",
       "    </tr>\n",
       "    <tr>\n",
       "      <th>11</th>\n",
       "      <td>7</td>\n",
       "      <td>tech entrepreneur</td>\n",
       "      <td>techmasters</td>\n",
       "      <td>cs club</td>\n",
       "      <td>NaN</td>\n",
       "      <td>4</td>\n",
       "      <td>2</td>\n",
       "      <td>4.0</td>\n",
       "      <td>3</td>\n",
       "      <td>5</td>\n",
       "      <td>...</td>\n",
       "      <td>0</td>\n",
       "      <td>0</td>\n",
       "      <td>0</td>\n",
       "      <td>0</td>\n",
       "      <td>2</td>\n",
       "      <td>0</td>\n",
       "      <td>1</td>\n",
       "      <td>0</td>\n",
       "      <td>0</td>\n",
       "      <td>0</td>\n",
       "    </tr>\n",
       "    <tr>\n",
       "      <th>12</th>\n",
       "      <td>5</td>\n",
       "      <td>NaN</td>\n",
       "      <td>WOFO</td>\n",
       "      <td>GSA</td>\n",
       "      <td>NaN</td>\n",
       "      <td>4</td>\n",
       "      <td>3</td>\n",
       "      <td>2.0</td>\n",
       "      <td>3</td>\n",
       "      <td>4</td>\n",
       "      <td>...</td>\n",
       "      <td>0</td>\n",
       "      <td>2</td>\n",
       "      <td>0</td>\n",
       "      <td>0</td>\n",
       "      <td>0</td>\n",
       "      <td>0</td>\n",
       "      <td>0</td>\n",
       "      <td>0</td>\n",
       "      <td>0</td>\n",
       "      <td>0</td>\n",
       "    </tr>\n",
       "    <tr>\n",
       "      <th>13</th>\n",
       "      <td>7</td>\n",
       "      <td>neuroscientist</td>\n",
       "      <td>international club</td>\n",
       "      <td>SLAM/dance</td>\n",
       "      <td>out of the blue</td>\n",
       "      <td>5</td>\n",
       "      <td>2</td>\n",
       "      <td>3.0</td>\n",
       "      <td>5</td>\n",
       "      <td>1</td>\n",
       "      <td>...</td>\n",
       "      <td>0</td>\n",
       "      <td>2</td>\n",
       "      <td>0</td>\n",
       "      <td>1</td>\n",
       "      <td>0</td>\n",
       "      <td>0</td>\n",
       "      <td>0</td>\n",
       "      <td>1</td>\n",
       "      <td>0</td>\n",
       "      <td>0</td>\n",
       "    </tr>\n",
       "    <tr>\n",
       "      <th>14</th>\n",
       "      <td>5</td>\n",
       "      <td>engineer</td>\n",
       "      <td>cs club</td>\n",
       "      <td>band</td>\n",
       "      <td>peer tutor</td>\n",
       "      <td>3</td>\n",
       "      <td>4</td>\n",
       "      <td>2.0</td>\n",
       "      <td>2</td>\n",
       "      <td>3</td>\n",
       "      <td>...</td>\n",
       "      <td>0</td>\n",
       "      <td>1</td>\n",
       "      <td>1</td>\n",
       "      <td>0</td>\n",
       "      <td>1</td>\n",
       "      <td>0</td>\n",
       "      <td>0</td>\n",
       "      <td>0</td>\n",
       "      <td>0</td>\n",
       "      <td>0</td>\n",
       "    </tr>\n",
       "  </tbody>\n",
       "</table>\n",
       "<p>15 rows × 41 columns</p>\n",
       "</div>"
      ],
      "text/plain": [
       "    Period                 DreamJob               Club1            Club2  \\\n",
       "0        7                      CEO              makers      techmasters   \n",
       "1        5                      NaN              debate  investment club   \n",
       "2        7  JPL operations engineer              makers        astronomy   \n",
       "3        5               Google R&D            robotics      techmasters   \n",
       "4        7        tech entrepreneur          phillipian      techmasters   \n",
       "5        5   rollerskating waitress        philo/debate         model UN   \n",
       "6        7             entrepreneur             cs club             filo   \n",
       "7        5          venture capital   economics society   big ideas club   \n",
       "8        5        tech entrepreneur            robotics          cs club   \n",
       "9        5       research scientist            robotics        ecoaction   \n",
       "10       7             math-related            robotics      techmasters   \n",
       "11       7        tech entrepreneur         techmasters          cs club   \n",
       "12       5                      NaN                WOFO              GSA   \n",
       "13       7           neuroscientist  international club       SLAM/dance   \n",
       "14       5                 engineer             cs club             band   \n",
       "\n",
       "                Club3  Tweets  LHC  VLA  MRI  Seis       ...        \\\n",
       "0                band       3    5  5.0    4     4       ...         \n",
       "1       aviation club       5    2  4.0    3     2       ...         \n",
       "2          mock trial       1    4  5.0    3     3       ...         \n",
       "3              german       2    3  4.8    2     2       ...         \n",
       "4      astronomy club       5    2  5.0    2     3       ...         \n",
       "5   Democracy project       5    2  2.0    4     4       ...         \n",
       "6        movie makers       2    3  2.0    3     5       ...         \n",
       "7          phillipian       4    2  2.0    3     2       ...         \n",
       "8         techmasters       4    5  4.0    3     1       ...         \n",
       "9                 NaN       5    5  2.0    5     2       ...         \n",
       "10             gaming       4    5  4.0    3     2       ...         \n",
       "11                NaN       4    2  4.0    3     5       ...         \n",
       "12                NaN       4    3  2.0    3     4       ...         \n",
       "13    out of the blue       5    2  3.0    5     1       ...         \n",
       "14         peer tutor       3    4  2.0    2     3       ...         \n",
       "\n",
       "    philo/poli/econ  social  PA duties  international  math/sci/tech  \\\n",
       "0                 0       1          0              0              2   \n",
       "1                 2       0          0              0              1   \n",
       "2                 1       0          0              0              2   \n",
       "3                 0       0          0              1              2   \n",
       "4                 0       0          1              0              2   \n",
       "5                 3       0          0              0              0   \n",
       "6                 1       1          0              0              1   \n",
       "7                 1       0          1              0              0   \n",
       "8                 0       0          0              0              3   \n",
       "9                 0       1          0              0              1   \n",
       "10                0       0          0              0              3   \n",
       "11                0       0          0              0              2   \n",
       "12                0       2          0              0              0   \n",
       "13                0       2          0              1              0   \n",
       "14                0       1          1              0              1   \n",
       "\n",
       "    entreprenuerial  jobs_tech  jobs_science  jobs_business  jobs_fantastic  \n",
       "0                 0          0             0              1               0  \n",
       "1                 0          0             0              0               0  \n",
       "2                 0          0             1              0               0  \n",
       "3                 0          1             0              0               0  \n",
       "4                 0          1             0              0               0  \n",
       "5                 0          0             0              0               1  \n",
       "6                 0          0             0              0               0  \n",
       "7                 1          0             0              1               0  \n",
       "8                 0          1             0              0               0  \n",
       "9                 0          0             1              0               0  \n",
       "10                0          0             1              0               0  \n",
       "11                0          1             0              0               0  \n",
       "12                0          0             0              0               0  \n",
       "13                0          0             1              0               0  \n",
       "14                0          0             0              0               0  \n",
       "\n",
       "[15 rows x 41 columns]"
      ]
     },
     "execution_count": 44,
     "metadata": {},
     "output_type": "execute_result"
    }
   ],
   "source": [
    "for group in job_groups:\n",
    "    df[group] = df.DreamJob.isin(job_groups[group]).apply(lambda x: {False:0, True:1}[x])\n",
    "\n",
    "df.head(15) #scroll way right one more time!"
   ]
  },
  {
   "cell_type": "markdown",
   "metadata": {},
   "source": [
    "### Final Cleanup: create data matrix\n",
    "\n",
    "The last step is to remove all string columns, creating just a [matrix](https://en.wikipedia.org/wiki/Matrix_%28mathematics%29).  Let's inspect the data types (or `dtypes`) of the columns:"
   ]
  },
  {
   "cell_type": "code",
   "execution_count": 45,
   "metadata": {},
   "outputs": [
    {
     "data": {
      "text/plain": [
       "Period             int64\n",
       "DreamJob          object\n",
       "Club1             object\n",
       "Club2             object\n",
       "Club3             object\n",
       "Tweets             int64\n",
       "LHC                int64\n",
       "VLA              float64\n",
       "MRI                int64\n",
       "Seis               int64\n",
       "WaterSamples     float64\n",
       "Emails             int64\n",
       "SocialNetwork    float64\n",
       "AnimalImage        int64\n",
       "instagram          int64\n",
       "dtype: object"
      ]
     },
     "execution_count": 45,
     "metadata": {},
     "output_type": "execute_result"
    }
   ],
   "source": [
    "df.dtypes[:15]"
   ]
  },
  {
   "cell_type": "markdown",
   "metadata": {},
   "source": [
    "Okay, so we can filter the columns by their `dtypes`.  You might think that this will be a huge task of typing in each column name that has type `object` in it, but of course there's tools to make your life easier:"
   ]
  },
  {
   "cell_type": "code",
   "execution_count": 46,
   "metadata": {},
   "outputs": [
    {
     "data": {
      "text/html": [
       "<div>\n",
       "<style scoped>\n",
       "    .dataframe tbody tr th:only-of-type {\n",
       "        vertical-align: middle;\n",
       "    }\n",
       "\n",
       "    .dataframe tbody tr th {\n",
       "        vertical-align: top;\n",
       "    }\n",
       "\n",
       "    .dataframe thead th {\n",
       "        text-align: right;\n",
       "    }\n",
       "</style>\n",
       "<table border=\"1\" class=\"dataframe\">\n",
       "  <thead>\n",
       "    <tr style=\"text-align: right;\">\n",
       "      <th></th>\n",
       "      <th>Period</th>\n",
       "      <th>Tweets</th>\n",
       "      <th>LHC</th>\n",
       "      <th>VLA</th>\n",
       "      <th>MRI</th>\n",
       "      <th>Seis</th>\n",
       "      <th>WaterSamples</th>\n",
       "      <th>Emails</th>\n",
       "      <th>SocialNetwork</th>\n",
       "      <th>AnimalImage</th>\n",
       "      <th>...</th>\n",
       "      <th>philo/poli/econ</th>\n",
       "      <th>social</th>\n",
       "      <th>PA duties</th>\n",
       "      <th>international</th>\n",
       "      <th>math/sci/tech</th>\n",
       "      <th>entreprenuerial</th>\n",
       "      <th>jobs_tech</th>\n",
       "      <th>jobs_science</th>\n",
       "      <th>jobs_business</th>\n",
       "      <th>jobs_fantastic</th>\n",
       "    </tr>\n",
       "  </thead>\n",
       "  <tbody>\n",
       "    <tr>\n",
       "      <th>0</th>\n",
       "      <td>7</td>\n",
       "      <td>3</td>\n",
       "      <td>5</td>\n",
       "      <td>5.0</td>\n",
       "      <td>4</td>\n",
       "      <td>4</td>\n",
       "      <td>3.0</td>\n",
       "      <td>5</td>\n",
       "      <td>5.0</td>\n",
       "      <td>3</td>\n",
       "      <td>...</td>\n",
       "      <td>0</td>\n",
       "      <td>1</td>\n",
       "      <td>0</td>\n",
       "      <td>0</td>\n",
       "      <td>2</td>\n",
       "      <td>0</td>\n",
       "      <td>0</td>\n",
       "      <td>0</td>\n",
       "      <td>1</td>\n",
       "      <td>0</td>\n",
       "    </tr>\n",
       "    <tr>\n",
       "      <th>1</th>\n",
       "      <td>5</td>\n",
       "      <td>5</td>\n",
       "      <td>2</td>\n",
       "      <td>4.0</td>\n",
       "      <td>3</td>\n",
       "      <td>2</td>\n",
       "      <td>5.0</td>\n",
       "      <td>4</td>\n",
       "      <td>5.0</td>\n",
       "      <td>1</td>\n",
       "      <td>...</td>\n",
       "      <td>2</td>\n",
       "      <td>0</td>\n",
       "      <td>0</td>\n",
       "      <td>0</td>\n",
       "      <td>1</td>\n",
       "      <td>0</td>\n",
       "      <td>0</td>\n",
       "      <td>0</td>\n",
       "      <td>0</td>\n",
       "      <td>0</td>\n",
       "    </tr>\n",
       "    <tr>\n",
       "      <th>2</th>\n",
       "      <td>7</td>\n",
       "      <td>1</td>\n",
       "      <td>4</td>\n",
       "      <td>5.0</td>\n",
       "      <td>3</td>\n",
       "      <td>3</td>\n",
       "      <td>2.0</td>\n",
       "      <td>2</td>\n",
       "      <td>2.0</td>\n",
       "      <td>1</td>\n",
       "      <td>...</td>\n",
       "      <td>1</td>\n",
       "      <td>0</td>\n",
       "      <td>0</td>\n",
       "      <td>0</td>\n",
       "      <td>2</td>\n",
       "      <td>0</td>\n",
       "      <td>0</td>\n",
       "      <td>1</td>\n",
       "      <td>0</td>\n",
       "      <td>0</td>\n",
       "    </tr>\n",
       "    <tr>\n",
       "      <th>3</th>\n",
       "      <td>5</td>\n",
       "      <td>2</td>\n",
       "      <td>3</td>\n",
       "      <td>4.8</td>\n",
       "      <td>2</td>\n",
       "      <td>2</td>\n",
       "      <td>1.0</td>\n",
       "      <td>2</td>\n",
       "      <td>2.0</td>\n",
       "      <td>4</td>\n",
       "      <td>...</td>\n",
       "      <td>0</td>\n",
       "      <td>0</td>\n",
       "      <td>0</td>\n",
       "      <td>1</td>\n",
       "      <td>2</td>\n",
       "      <td>0</td>\n",
       "      <td>1</td>\n",
       "      <td>0</td>\n",
       "      <td>0</td>\n",
       "      <td>0</td>\n",
       "    </tr>\n",
       "    <tr>\n",
       "      <th>4</th>\n",
       "      <td>7</td>\n",
       "      <td>5</td>\n",
       "      <td>2</td>\n",
       "      <td>5.0</td>\n",
       "      <td>2</td>\n",
       "      <td>3</td>\n",
       "      <td>3.0</td>\n",
       "      <td>4</td>\n",
       "      <td>4.0</td>\n",
       "      <td>5</td>\n",
       "      <td>...</td>\n",
       "      <td>0</td>\n",
       "      <td>0</td>\n",
       "      <td>1</td>\n",
       "      <td>0</td>\n",
       "      <td>2</td>\n",
       "      <td>0</td>\n",
       "      <td>1</td>\n",
       "      <td>0</td>\n",
       "      <td>0</td>\n",
       "      <td>0</td>\n",
       "    </tr>\n",
       "  </tbody>\n",
       "</table>\n",
       "<p>5 rows × 33 columns</p>\n",
       "</div>"
      ],
      "text/plain": [
       "   Period  Tweets  LHC  VLA  MRI  Seis  WaterSamples  Emails  SocialNetwork  \\\n",
       "0       7       3    5  5.0    4     4           3.0       5            5.0   \n",
       "1       5       5    2  4.0    3     2           5.0       4            5.0   \n",
       "2       7       1    4  5.0    3     3           2.0       2            2.0   \n",
       "3       5       2    3  4.8    2     2           1.0       2            2.0   \n",
       "4       7       5    2  5.0    2     3           3.0       4            4.0   \n",
       "\n",
       "   AnimalImage       ...        philo/poli/econ  social  PA duties  \\\n",
       "0            3       ...                      0       1          0   \n",
       "1            1       ...                      2       0          0   \n",
       "2            1       ...                      1       0          0   \n",
       "3            4       ...                      0       0          0   \n",
       "4            5       ...                      0       0          1   \n",
       "\n",
       "   international  math/sci/tech  entreprenuerial  jobs_tech  jobs_science  \\\n",
       "0              0              2                0          0             0   \n",
       "1              0              1                0          0             0   \n",
       "2              0              2                0          0             1   \n",
       "3              1              2                0          1             0   \n",
       "4              0              2                0          1             0   \n",
       "\n",
       "   jobs_business  jobs_fantastic  \n",
       "0              1               0  \n",
       "1              0               0  \n",
       "2              0               0  \n",
       "3              0               0  \n",
       "4              0               0  \n",
       "\n",
       "[5 rows x 33 columns]"
      ]
     },
     "execution_count": 46,
     "metadata": {},
     "output_type": "execute_result"
    }
   ],
   "source": [
    "X = df.select_dtypes(exclude=['object'])\n",
    "\n",
    "X.head()"
   ]
  },
  {
   "cell_type": "markdown",
   "metadata": {},
   "source": [
    "When you're done cleaning a dataset, it's usually good to save the data to a **new** file.  It's very important that it's new, to help with [data lineage/provenance](https://en.wikipedia.org/wiki/Data_lineage)."
   ]
  },
  {
   "cell_type": "code",
   "execution_count": 47,
   "metadata": {},
   "outputs": [],
   "source": [
    "X.to_csv(join(\"data\",\"dataset_preferences.csv\"))\n",
    "\n",
    "# This way, if screw up something below and lose some data, you can always uncomment this:\n",
    "#X = pd.read_csv(join(\"data\",\"dataset_preferences.csv\"))"
   ]
  },
  {
   "cell_type": "markdown",
   "metadata": {},
   "source": [
    "## Analysis\n",
    "\n",
    "The point of this notebook isn't to dive deeply into the analysis, so we'll just do one last little bit to show that we're ready to dive into more mathematical/statistical techniques.  The first thing we want to do is see if we have some missing data.\n",
    "\n",
    "The way we're going to zero in on it is to use what's called *boolean slicing*.  We can give a boolean expression to the slicing operator of a dataframe (that's `X[<...>]`)."
   ]
  },
  {
   "cell_type": "code",
   "execution_count": 48,
   "metadata": {},
   "outputs": [
    {
     "data": {
      "text/html": [
       "<div>\n",
       "<style scoped>\n",
       "    .dataframe tbody tr th:only-of-type {\n",
       "        vertical-align: middle;\n",
       "    }\n",
       "\n",
       "    .dataframe tbody tr th {\n",
       "        vertical-align: top;\n",
       "    }\n",
       "\n",
       "    .dataframe thead th {\n",
       "        text-align: right;\n",
       "    }\n",
       "</style>\n",
       "<table border=\"1\" class=\"dataframe\">\n",
       "  <thead>\n",
       "    <tr style=\"text-align: right;\">\n",
       "      <th></th>\n",
       "      <th>Period</th>\n",
       "      <th>Tweets</th>\n",
       "      <th>LHC</th>\n",
       "      <th>VLA</th>\n",
       "      <th>MRI</th>\n",
       "      <th>Seis</th>\n",
       "      <th>WaterSamples</th>\n",
       "      <th>Emails</th>\n",
       "      <th>SocialNetwork</th>\n",
       "      <th>AnimalImage</th>\n",
       "      <th>...</th>\n",
       "      <th>philo/poli/econ</th>\n",
       "      <th>social</th>\n",
       "      <th>PA duties</th>\n",
       "      <th>international</th>\n",
       "      <th>math/sci/tech</th>\n",
       "      <th>entreprenuerial</th>\n",
       "      <th>jobs_tech</th>\n",
       "      <th>jobs_science</th>\n",
       "      <th>jobs_business</th>\n",
       "      <th>jobs_fantastic</th>\n",
       "    </tr>\n",
       "  </thead>\n",
       "  <tbody>\n",
       "    <tr>\n",
       "      <th>18</th>\n",
       "      <td>5</td>\n",
       "      <td>4</td>\n",
       "      <td>2</td>\n",
       "      <td>3.0</td>\n",
       "      <td>2</td>\n",
       "      <td>2</td>\n",
       "      <td>NaN</td>\n",
       "      <td>4</td>\n",
       "      <td>NaN</td>\n",
       "      <td>3</td>\n",
       "      <td>...</td>\n",
       "      <td>0</td>\n",
       "      <td>0</td>\n",
       "      <td>0</td>\n",
       "      <td>1</td>\n",
       "      <td>2</td>\n",
       "      <td>0</td>\n",
       "      <td>1</td>\n",
       "      <td>0</td>\n",
       "      <td>0</td>\n",
       "      <td>0</td>\n",
       "    </tr>\n",
       "  </tbody>\n",
       "</table>\n",
       "<p>1 rows × 33 columns</p>\n",
       "</div>"
      ],
      "text/plain": [
       "    Period  Tweets  LHC  VLA  MRI  Seis  WaterSamples  Emails  SocialNetwork  \\\n",
       "18       5       4    2  3.0    2     2           NaN       4            NaN   \n",
       "\n",
       "    AnimalImage       ...        philo/poli/econ  social  PA duties  \\\n",
       "18            3       ...                      0       0          0   \n",
       "\n",
       "    international  math/sci/tech  entreprenuerial  jobs_tech  jobs_science  \\\n",
       "18              1              2                0          1             0   \n",
       "\n",
       "    jobs_business  jobs_fantastic  \n",
       "18              0               0  \n",
       "\n",
       "[1 rows x 33 columns]"
      ]
     },
     "execution_count": 48,
     "metadata": {},
     "output_type": "execute_result"
    }
   ],
   "source": [
    "X[X.isnull().any(axis=1)] # Which rows have NaN?"
   ]
  },
  {
   "cell_type": "code",
   "execution_count": 49,
   "metadata": {},
   "outputs": [
    {
     "data": {
      "text/plain": [
       "['WaterSamples', 'SocialNetwork', 'MartianLandscape']"
      ]
     },
     "execution_count": 49,
     "metadata": {},
     "output_type": "execute_result"
    }
   ],
   "source": [
    "X.columns[pd.isnull(X).any()].tolist() # Which columns have NaN?"
   ]
  },
  {
   "cell_type": "markdown",
   "metadata": {
    "collapsed": true
   },
   "source": [
    "The topic of what to do with missing data is a big one, and not something we can cover in a single cell.  The simplest solution is to [*impute*](https://en.wikipedia.org/wiki/Imputation_%28statistics%29) them to be some kind of average or otherwise representative value.  Here, I'll take the median of the column.  \n",
    "\n",
    "One important side note: when we use `df[<my_command>]` to slice up the dataset, we're getting back what's called a *view*; it's not the original data.  That is, `X` strictly speaking is **not** precisely some of the columns of `df`.  Therefore,  setting individual values in a dataframe can sometimes be strange if we've done any of those slices (and we have!).  Pandas will yell at you with a warning about this, though for something this simple it will probably work just fine."
   ]
  },
  {
   "cell_type": "code",
   "execution_count": 50,
   "metadata": {},
   "outputs": [
    {
     "name": "stderr",
     "output_type": "stream",
     "text": [
      "C:\\Users\\cdeme\\Anaconda3\\lib\\site-packages\\pandas\\core\\indexing.py:543: SettingWithCopyWarning: \n",
      "A value is trying to be set on a copy of a slice from a DataFrame.\n",
      "Try using .loc[row_indexer,col_indexer] = value instead\n",
      "\n",
      "See the caveats in the documentation: http://pandas.pydata.org/pandas-docs/stable/indexing.html#indexing-view-versus-copy\n",
      "  self.obj[item] = s\n"
     ]
    }
   ],
   "source": [
    "# This one will (probably!) work but will (probably!) raise a warning:\n",
    "X.loc[18,\"WaterSamples\"] = X[\"WaterSamples\"].median()"
   ]
  },
  {
   "cell_type": "markdown",
   "metadata": {},
   "source": [
    "The warning is happening because Pandas can't guarantee that it's done what you've asked it. In order to be sure that you've got a fully functioning `DataFrame` object, first make it so:"
   ]
  },
  {
   "cell_type": "code",
   "execution_count": 51,
   "metadata": {},
   "outputs": [],
   "source": [
    "X = pd.DataFrame(X)\n",
    "\n",
    "# Look, no warnings!\n",
    "X.loc[18,\"SocialNetwork\"] = X[\"SocialNetwork\"].median()\n",
    "X.loc[18,\"MartianLandscape\"] = X[\"MartianLandscape\"].median()"
   ]
  },
  {
   "cell_type": "markdown",
   "metadata": {},
   "source": [
    "Okay, let's take a look to see that it did indeed all work."
   ]
  },
  {
   "cell_type": "code",
   "execution_count": 52,
   "metadata": {},
   "outputs": [
    {
     "data": {
      "text/html": [
       "<div>\n",
       "<style scoped>\n",
       "    .dataframe tbody tr th:only-of-type {\n",
       "        vertical-align: middle;\n",
       "    }\n",
       "\n",
       "    .dataframe tbody tr th {\n",
       "        vertical-align: top;\n",
       "    }\n",
       "\n",
       "    .dataframe thead th {\n",
       "        text-align: right;\n",
       "    }\n",
       "</style>\n",
       "<table border=\"1\" class=\"dataframe\">\n",
       "  <thead>\n",
       "    <tr style=\"text-align: right;\">\n",
       "      <th></th>\n",
       "      <th>Period</th>\n",
       "      <th>Tweets</th>\n",
       "      <th>LHC</th>\n",
       "      <th>VLA</th>\n",
       "      <th>MRI</th>\n",
       "      <th>Seis</th>\n",
       "      <th>WaterSamples</th>\n",
       "      <th>Emails</th>\n",
       "      <th>SocialNetwork</th>\n",
       "      <th>AnimalImage</th>\n",
       "      <th>...</th>\n",
       "      <th>philo/poli/econ</th>\n",
       "      <th>social</th>\n",
       "      <th>PA duties</th>\n",
       "      <th>international</th>\n",
       "      <th>math/sci/tech</th>\n",
       "      <th>entreprenuerial</th>\n",
       "      <th>jobs_tech</th>\n",
       "      <th>jobs_science</th>\n",
       "      <th>jobs_business</th>\n",
       "      <th>jobs_fantastic</th>\n",
       "    </tr>\n",
       "  </thead>\n",
       "  <tbody>\n",
       "  </tbody>\n",
       "</table>\n",
       "<p>0 rows × 33 columns</p>\n",
       "</div>"
      ],
      "text/plain": [
       "Empty DataFrame\n",
       "Columns: [Period, Tweets, LHC, VLA, MRI, Seis, WaterSamples, Emails, SocialNetwork, AnimalImage, instagram, handwritten, MartianLandscape, sport, HTML, interview, web-ad, psychological, books, DeliveryLogs, CountyVote, temperatures, WirelessStr, philo/poli/econ, social, PA duties, international, math/sci/tech, entreprenuerial, jobs_tech, jobs_science, jobs_business, jobs_fantastic]\n",
       "Index: []\n",
       "\n",
       "[0 rows x 33 columns]"
      ]
     },
     "execution_count": 52,
     "metadata": {},
     "output_type": "execute_result"
    }
   ],
   "source": [
    "X[X.isnull().any(axis=1)]"
   ]
  },
  {
   "cell_type": "markdown",
   "metadata": {},
   "source": [
    "Great.  Now, of all those different datasets, which ones scored the highest (as in, which ones did students want to work with the most)?  We need to find a way to select those rows that correspond to jobs.  It would be a lot of work to type them all out!  Is there anything else we can use?"
   ]
  },
  {
   "cell_type": "code",
   "execution_count": 53,
   "metadata": {},
   "outputs": [
    {
     "name": "stdout",
     "output_type": "stream",
     "text": [
      "Tweets, LHC, VLA, MRI, Seis, WaterSamples, Emails, SocialNetwork, AnimalImage, instagram, handwritten, MartianLandscape, sport, HTML, interview, web-ad, psychological, books, DeliveryLogs, CountyVote, temperatures, WirelessStr\n"
     ]
    }
   ],
   "source": [
    "not_datasets = list(club_groups.keys()) + list(job_groups.keys()) + [\"Period\"]\n",
    "datasets = [col for col in X.columns if col not in not_datasets]\n",
    "print(*datasets, sep=\", \")"
   ]
  },
  {
   "cell_type": "markdown",
   "metadata": {},
   "source": [
    "That worked!  Now let's see them all."
   ]
  },
  {
   "cell_type": "code",
   "execution_count": 54,
   "metadata": {},
   "outputs": [
    {
     "data": {
      "image/png": "[encoded data removed]",
      "text/plain": [
       "<Figure size 720x576 with 1 Axes>"
      ]
     },
     "metadata": {
      "needs_background": "light"
     },
     "output_type": "display_data"
    }
   ],
   "source": [
    "totals = X[datasets].sum(axis=0).sort_values()\n",
    "plt.figure(figsize=(10, 8))\n",
    "totals.plot(kind='barh');"
   ]
  },
  {
   "cell_type": "markdown",
   "metadata": {},
   "source": [
    "Interesting!  I wasn't expecting emails to win.  Or really any of those top 5 or so.  The last thing we'll do with this elementary analysis is to look at basic statistics of the dataset."
   ]
  },
  {
   "cell_type": "code",
   "execution_count": 55,
   "metadata": {},
   "outputs": [
    {
     "data": {
      "text/html": [
       "<div>\n",
       "<style scoped>\n",
       "    .dataframe tbody tr th:only-of-type {\n",
       "        vertical-align: middle;\n",
       "    }\n",
       "\n",
       "    .dataframe tbody tr th {\n",
       "        vertical-align: top;\n",
       "    }\n",
       "\n",
       "    .dataframe thead th {\n",
       "        text-align: right;\n",
       "    }\n",
       "</style>\n",
       "<table border=\"1\" class=\"dataframe\">\n",
       "  <thead>\n",
       "    <tr style=\"text-align: right;\">\n",
       "      <th></th>\n",
       "      <th>Period</th>\n",
       "      <th>Tweets</th>\n",
       "      <th>LHC</th>\n",
       "      <th>VLA</th>\n",
       "      <th>MRI</th>\n",
       "      <th>Seis</th>\n",
       "      <th>WaterSamples</th>\n",
       "      <th>Emails</th>\n",
       "      <th>SocialNetwork</th>\n",
       "      <th>AnimalImage</th>\n",
       "      <th>...</th>\n",
       "      <th>philo/poli/econ</th>\n",
       "      <th>social</th>\n",
       "      <th>PA duties</th>\n",
       "      <th>international</th>\n",
       "      <th>math/sci/tech</th>\n",
       "      <th>entreprenuerial</th>\n",
       "      <th>jobs_tech</th>\n",
       "      <th>jobs_science</th>\n",
       "      <th>jobs_business</th>\n",
       "      <th>jobs_fantastic</th>\n",
       "    </tr>\n",
       "  </thead>\n",
       "  <tbody>\n",
       "    <tr>\n",
       "      <th>count</th>\n",
       "      <td>21.000000</td>\n",
       "      <td>21.000000</td>\n",
       "      <td>21.000000</td>\n",
       "      <td>21.000000</td>\n",
       "      <td>21.000000</td>\n",
       "      <td>21.000000</td>\n",
       "      <td>21.000000</td>\n",
       "      <td>21.00000</td>\n",
       "      <td>21.000000</td>\n",
       "      <td>21.000000</td>\n",
       "      <td>...</td>\n",
       "      <td>21.000000</td>\n",
       "      <td>21.000000</td>\n",
       "      <td>21.000000</td>\n",
       "      <td>21.000000</td>\n",
       "      <td>21.000000</td>\n",
       "      <td>21.000000</td>\n",
       "      <td>21.000000</td>\n",
       "      <td>21.000000</td>\n",
       "      <td>21.000000</td>\n",
       "      <td>21.000000</td>\n",
       "    </tr>\n",
       "    <tr>\n",
       "      <th>mean</th>\n",
       "      <td>5.761905</td>\n",
       "      <td>3.904762</td>\n",
       "      <td>3.238095</td>\n",
       "      <td>3.276190</td>\n",
       "      <td>3.095238</td>\n",
       "      <td>2.714286</td>\n",
       "      <td>2.904762</td>\n",
       "      <td>4.00000</td>\n",
       "      <td>3.309524</td>\n",
       "      <td>3.000000</td>\n",
       "      <td>...</td>\n",
       "      <td>0.380952</td>\n",
       "      <td>0.428571</td>\n",
       "      <td>0.285714</td>\n",
       "      <td>0.142857</td>\n",
       "      <td>1.380952</td>\n",
       "      <td>0.142857</td>\n",
       "      <td>0.333333</td>\n",
       "      <td>0.238095</td>\n",
       "      <td>0.142857</td>\n",
       "      <td>0.047619</td>\n",
       "    </tr>\n",
       "    <tr>\n",
       "      <th>std</th>\n",
       "      <td>0.995227</td>\n",
       "      <td>1.135991</td>\n",
       "      <td>1.300183</td>\n",
       "      <td>1.257738</td>\n",
       "      <td>0.995227</td>\n",
       "      <td>1.189237</td>\n",
       "      <td>1.179185</td>\n",
       "      <td>0.83666</td>\n",
       "      <td>1.229595</td>\n",
       "      <td>1.378405</td>\n",
       "      <td>...</td>\n",
       "      <td>0.804748</td>\n",
       "      <td>0.676123</td>\n",
       "      <td>0.717137</td>\n",
       "      <td>0.358569</td>\n",
       "      <td>1.071270</td>\n",
       "      <td>0.478091</td>\n",
       "      <td>0.483046</td>\n",
       "      <td>0.436436</td>\n",
       "      <td>0.358569</td>\n",
       "      <td>0.218218</td>\n",
       "    </tr>\n",
       "    <tr>\n",
       "      <th>min</th>\n",
       "      <td>5.000000</td>\n",
       "      <td>1.000000</td>\n",
       "      <td>2.000000</td>\n",
       "      <td>2.000000</td>\n",
       "      <td>2.000000</td>\n",
       "      <td>1.000000</td>\n",
       "      <td>1.000000</td>\n",
       "      <td>2.00000</td>\n",
       "      <td>1.000000</td>\n",
       "      <td>1.000000</td>\n",
       "      <td>...</td>\n",
       "      <td>0.000000</td>\n",
       "      <td>0.000000</td>\n",
       "      <td>0.000000</td>\n",
       "      <td>0.000000</td>\n",
       "      <td>0.000000</td>\n",
       "      <td>0.000000</td>\n",
       "      <td>0.000000</td>\n",
       "      <td>0.000000</td>\n",
       "      <td>0.000000</td>\n",
       "      <td>0.000000</td>\n",
       "    </tr>\n",
       "    <tr>\n",
       "      <th>25%</th>\n",
       "      <td>5.000000</td>\n",
       "      <td>4.000000</td>\n",
       "      <td>2.000000</td>\n",
       "      <td>2.000000</td>\n",
       "      <td>2.000000</td>\n",
       "      <td>2.000000</td>\n",
       "      <td>2.000000</td>\n",
       "      <td>4.00000</td>\n",
       "      <td>2.000000</td>\n",
       "      <td>2.000000</td>\n",
       "      <td>...</td>\n",
       "      <td>0.000000</td>\n",
       "      <td>0.000000</td>\n",
       "      <td>0.000000</td>\n",
       "      <td>0.000000</td>\n",
       "      <td>0.000000</td>\n",
       "      <td>0.000000</td>\n",
       "      <td>0.000000</td>\n",
       "      <td>0.000000</td>\n",
       "      <td>0.000000</td>\n",
       "      <td>0.000000</td>\n",
       "    </tr>\n",
       "    <tr>\n",
       "      <th>50%</th>\n",
       "      <td>5.000000</td>\n",
       "      <td>4.000000</td>\n",
       "      <td>3.000000</td>\n",
       "      <td>3.000000</td>\n",
       "      <td>3.000000</td>\n",
       "      <td>3.000000</td>\n",
       "      <td>3.000000</td>\n",
       "      <td>4.00000</td>\n",
       "      <td>3.500000</td>\n",
       "      <td>3.000000</td>\n",
       "      <td>...</td>\n",
       "      <td>0.000000</td>\n",
       "      <td>0.000000</td>\n",
       "      <td>0.000000</td>\n",
       "      <td>0.000000</td>\n",
       "      <td>2.000000</td>\n",
       "      <td>0.000000</td>\n",
       "      <td>0.000000</td>\n",
       "      <td>0.000000</td>\n",
       "      <td>0.000000</td>\n",
       "      <td>0.000000</td>\n",
       "    </tr>\n",
       "    <tr>\n",
       "      <th>75%</th>\n",
       "      <td>7.000000</td>\n",
       "      <td>5.000000</td>\n",
       "      <td>5.000000</td>\n",
       "      <td>4.000000</td>\n",
       "      <td>3.000000</td>\n",
       "      <td>3.000000</td>\n",
       "      <td>4.000000</td>\n",
       "      <td>4.00000</td>\n",
       "      <td>4.000000</td>\n",
       "      <td>4.000000</td>\n",
       "      <td>...</td>\n",
       "      <td>0.000000</td>\n",
       "      <td>1.000000</td>\n",
       "      <td>0.000000</td>\n",
       "      <td>0.000000</td>\n",
       "      <td>2.000000</td>\n",
       "      <td>0.000000</td>\n",
       "      <td>1.000000</td>\n",
       "      <td>0.000000</td>\n",
       "      <td>0.000000</td>\n",
       "      <td>0.000000</td>\n",
       "    </tr>\n",
       "    <tr>\n",
       "      <th>max</th>\n",
       "      <td>7.000000</td>\n",
       "      <td>5.000000</td>\n",
       "      <td>5.000000</td>\n",
       "      <td>5.000000</td>\n",
       "      <td>5.000000</td>\n",
       "      <td>5.000000</td>\n",
       "      <td>5.000000</td>\n",
       "      <td>5.00000</td>\n",
       "      <td>5.000000</td>\n",
       "      <td>5.000000</td>\n",
       "      <td>...</td>\n",
       "      <td>3.000000</td>\n",
       "      <td>2.000000</td>\n",
       "      <td>3.000000</td>\n",
       "      <td>1.000000</td>\n",
       "      <td>3.000000</td>\n",
       "      <td>2.000000</td>\n",
       "      <td>1.000000</td>\n",
       "      <td>1.000000</td>\n",
       "      <td>1.000000</td>\n",
       "      <td>1.000000</td>\n",
       "    </tr>\n",
       "  </tbody>\n",
       "</table>\n",
       "<p>8 rows × 33 columns</p>\n",
       "</div>"
      ],
      "text/plain": [
       "          Period     Tweets        LHC        VLA        MRI       Seis  \\\n",
       "count  21.000000  21.000000  21.000000  21.000000  21.000000  21.000000   \n",
       "mean    5.761905   3.904762   3.238095   3.276190   3.095238   2.714286   \n",
       "std     0.995227   1.135991   1.300183   1.257738   0.995227   1.189237   \n",
       "min     5.000000   1.000000   2.000000   2.000000   2.000000   1.000000   \n",
       "25%     5.000000   4.000000   2.000000   2.000000   2.000000   2.000000   \n",
       "50%     5.000000   4.000000   3.000000   3.000000   3.000000   3.000000   \n",
       "75%     7.000000   5.000000   5.000000   4.000000   3.000000   3.000000   \n",
       "max     7.000000   5.000000   5.000000   5.000000   5.000000   5.000000   \n",
       "\n",
       "       WaterSamples    Emails  SocialNetwork  AnimalImage       ...        \\\n",
       "count     21.000000  21.00000      21.000000    21.000000       ...         \n",
       "mean       2.904762   4.00000       3.309524     3.000000       ...         \n",
       "std        1.179185   0.83666       1.229595     1.378405       ...         \n",
       "min        1.000000   2.00000       1.000000     1.000000       ...         \n",
       "25%        2.000000   4.00000       2.000000     2.000000       ...         \n",
       "50%        3.000000   4.00000       3.500000     3.000000       ...         \n",
       "75%        4.000000   4.00000       4.000000     4.000000       ...         \n",
       "max        5.000000   5.00000       5.000000     5.000000       ...         \n",
       "\n",
       "       philo/poli/econ     social  PA duties  international  math/sci/tech  \\\n",
       "count        21.000000  21.000000  21.000000      21.000000      21.000000   \n",
       "mean          0.380952   0.428571   0.285714       0.142857       1.380952   \n",
       "std           0.804748   0.676123   0.717137       0.358569       1.071270   \n",
       "min           0.000000   0.000000   0.000000       0.000000       0.000000   \n",
       "25%           0.000000   0.000000   0.000000       0.000000       0.000000   \n",
       "50%           0.000000   0.000000   0.000000       0.000000       2.000000   \n",
       "75%           0.000000   1.000000   0.000000       0.000000       2.000000   \n",
       "max           3.000000   2.000000   3.000000       1.000000       3.000000   \n",
       "\n",
       "       entreprenuerial  jobs_tech  jobs_science  jobs_business  jobs_fantastic  \n",
       "count        21.000000  21.000000     21.000000      21.000000       21.000000  \n",
       "mean          0.142857   0.333333      0.238095       0.142857        0.047619  \n",
       "std           0.478091   0.483046      0.436436       0.358569        0.218218  \n",
       "min           0.000000   0.000000      0.000000       0.000000        0.000000  \n",
       "25%           0.000000   0.000000      0.000000       0.000000        0.000000  \n",
       "50%           0.000000   0.000000      0.000000       0.000000        0.000000  \n",
       "75%           0.000000   1.000000      0.000000       0.000000        0.000000  \n",
       "max           2.000000   1.000000      1.000000       1.000000        1.000000  \n",
       "\n",
       "[8 rows x 33 columns]"
      ]
     },
     "execution_count": 55,
     "metadata": {},
     "output_type": "execute_result"
    }
   ],
   "source": [
    "X.describe()"
   ]
  },
  {
   "cell_type": "markdown",
   "metadata": {
    "collapsed": true
   },
   "source": [
    "There's so, so, so much more we can do with this dataset, now that we have it in a form we want!"
   ]
  },
  {
   "cell_type": "markdown",
   "metadata": {
    "collapsed": true
   },
   "source": [
    "### footer_latex\n",
    "$\\LaTeX$ is the *de facto* standard tool for typesetting mathematics and all things based upon in (*e.g.* science).  You separate your mathematical code using dollar signs, as you saw me do up there.  By the way, the math in that example above was both correct and adorable (Can you tell me why?).\n",
    "\n",
    "### footer_list_comprehensions\n",
    "What does that `print` statement above mean? Well, let's start with something easier:\n",
    "```\n",
    ">>> [x for x in range(2, 401)]\n",
    "```\n",
    "This is equal to [2, 3, 4, ..., 400] (a list!).  This is called a [list comprehension](https://docs.python.org/2/tutorial/datastructures.html#list-comprehensions).\n",
    "```\n",
    ">>> [x for x in range(2, 401) if is_prime(x)]\n",
    "```\n",
    "This is all the primes between 2 and 400\n",
    "```\n",
    ">>> print(*[<that_command_above>])\n",
    "```\n",
    "The asterisk is sometimes called the *splat operator*, it \"unpacks\" the list.  Thus, `my_func(*[2,3,4])` is equivalent to `my_func(2,3,4)`."
   ]
  },
  {
   "cell_type": "code",
   "execution_count": null,
   "metadata": {},
   "outputs": [],
   "source": []
  },
  {
   "cell_type": "code",
   "execution_count": null,
   "metadata": {},
   "outputs": [],
   "source": []
  },
  {
   "cell_type": "code",
   "execution_count": null,
   "metadata": {},
   "outputs": [],
   "source": []
  }
 ],
 "metadata": {
  "kernelspec": {
   "display_name": "Python 3",
   "language": "python",
   "name": "python3"
  },
  "language_info": {
   "codemirror_mode": {
    "name": "ipython",
    "version": 3
   },
   "file_extension": ".py",
   "mimetype": "text/x-python",
   "name": "python",
   "nbconvert_exporter": "python",
   "pygments_lexer": "ipython3",
   "version": "3.7.1"
  }
 },
 "nbformat": 4,
 "nbformat_minor": 1
}
