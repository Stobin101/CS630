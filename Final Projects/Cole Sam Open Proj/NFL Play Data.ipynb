{
 "cells": [
  {
   "cell_type": "markdown",
   "metadata": {},
   "source": [
    "# NFL Play-By-Play Stats\n",
    "by Cole DeMeulemeester and Sam Tobin"
   ]
  },
  {
   "cell_type": "markdown",
   "metadata": {},
   "source": [
    "#### Our Inspiration"
   ]
  },
  {
   "cell_type": "markdown",
   "metadata": {},
   "source": [
    "Our project looks at all of the plays in the 2015 NFL season, and with an input down and distance, charts the first down yardline, net yardage gained for each similar play, and the average yards gained for all similar plays."
   ]
  },
  {
   "cell_type": "markdown",
   "metadata": {},
   "source": [
    "We wanted to approach this project largely because Cole is football fanatic. We derived inspiration from the YouTuber Jon Bois, and the chart in his video, \"Kickoffs are Dumb and Stupid\". The visualization that he creates is shown in the following link:\n",
    "https://youtu.be/t_SsIKgwvz4?t=5m32s"
   ]
  },
  {
   "cell_type": "markdown",
   "metadata": {},
   "source": [
    "#### Collecting the Data"
   ]
  },
  {
   "cell_type": "markdown",
   "metadata": {},
   "source": [
    "To get our incredibly comprehensive dataset, we downloaded Max Horowitz's csv from the following link:\n",
    "https://www.kaggle.com/maxhorowitz/nflplaybyplay2015"
   ]
  },
  {
   "cell_type": "markdown",
   "metadata": {},
   "source": [
    "This dataset was already ready for use in our data visualization."
   ]
  },
  {
   "cell_type": "markdown",
   "metadata": {},
   "source": [
    "#### How It Works"
   ]
  },
  {
   "cell_type": "markdown",
   "metadata": {},
   "source": [
    "Our visualization works by reading the input Down and Yards to Go [lines 83, 84]. With this, the program sifts through all the data in the massive dataset [line 156]. "
   ]
  },
  {
   "cell_type": "markdown",
   "metadata": {},
   "source": [
    "Upon opening the webpage, the svg on which we chart the data and an image of the field, which doubles as our axis, is loaded [line 61-76]."
   ]
  },
  {
   "cell_type": "markdown",
   "metadata": {},
   "source": [
    "For each play that has the same conditions (down and distance), the average yards gained [line 153] and rate of conversion [line 167] is calculated. The rate of conversion is an interesting statistic, but we did not incorporate it into the visualization in its current version. In an improved version, we would implement it."
   ]
  },
  {
   "cell_type": "markdown",
   "metadata": {},
   "source": [
    "Net Yards Gained is stored in a new array [line 187]. This new array is then sorted by numerical order (least to greatest) [line 191] to be charted. "
   ]
  },
  {
   "cell_type": "markdown",
   "metadata": {},
   "source": [
    "I realize now that our visualization takes so long to load because it sifts through the data three separate times to find the average yards gained, the rate of conversion, and the net yards gained. In an improved version, all of these metrics would be found at the same time."
   ]
  },
  {
   "cell_type": "markdown",
   "metadata": {},
   "source": [
    "The actual charting of the data uses d-functions to align it with the image of the field and line of scrimmage [line 103, 104], create single bars for repeats of data (if multiple yards gained the same amount of yards) [line 105-107], and show color depending on if the the play gained or lost yards (red for negative yardage, blue for positve yardage) [line 109-115]. "
   ]
  },
  {
   "cell_type": "markdown",
   "metadata": {},
   "source": [
    "#### Running the Program"
   ]
  },
  {
   "cell_type": "markdown",
   "metadata": {},
   "source": [
    "By downloading the dataset, the field image, and our program and running a local server from the folder in which they are stored, your should be able to run our visualization."
   ]
  },
  {
   "cell_type": "markdown",
   "metadata": {},
   "source": [
    "Simply input your desired down and distance, click \"Generate Graph\", and enjoy!"
   ]
  }
 ],
 "metadata": {
  "kernelspec": {
   "display_name": "Python 3",
   "language": "python",
   "name": "python3"
  },
  "language_info": {
   "codemirror_mode": {
    "name": "ipython",
    "version": 3
   },
   "file_extension": ".py",
   "mimetype": "text/x-python",
   "name": "python",
   "nbconvert_exporter": "python",
   "pygments_lexer": "ipython3",
   "version": "3.6.1"
  }
 },
 "nbformat": 4,
 "nbformat_minor": 2
}
